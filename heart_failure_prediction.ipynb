{
  "nbformat": 4,
  "nbformat_minor": 0,
  "metadata": {
    "kernelspec": {
      "display_name": "Python 3",
      "language": "python",
      "name": "python3"
    },
    "language_info": {
      "codemirror_mode": {
        "name": "ipython",
        "version": 3
      },
      "file_extension": ".py",
      "mimetype": "text/x-python",
      "name": "python",
      "nbconvert_exporter": "python",
      "pygments_lexer": "ipython3",
      "version": "3.7.6"
    },
    "colab": {
      "name": "heart-failure-prediction.ipynb",
      "provenance": [],
      "collapsed_sections": []
    }
  },
  "cells": [
    {
      "cell_type": "code",
      "metadata": {
        "id": "RvcBcBArfPA6"
      },
      "source": [
        "# Jovian Commit Essentials\n",
        "# Please retain and execute this cell without modifying the contents for `jovian.commit` to work\n",
        "!pip install jovian --upgrade -q\n",
        "import jovian\n",
        "jovian.set_project('heart-failure-prediction')\n",
        "jovian.set_colab_id('1xbt7p66S9an4WMbaOxPlfZgdU7VarCpv')"
      ],
      "execution_count": 55,
      "outputs": []
    },
    {
      "cell_type": "markdown",
      "metadata": {
        "id": "di7-d60KfPA-"
      },
      "source": [
        "# heart-failure-prediction\n",
        "\n",
        "Use the \"Run\" button to execute the code."
      ]
    },
    {
      "cell_type": "code",
      "metadata": {
        "id": "fmLkasCufPBA"
      },
      "source": [
        "!pip install jovian --upgrade --quiet"
      ],
      "execution_count": 56,
      "outputs": []
    },
    {
      "cell_type": "code",
      "metadata": {
        "id": "sirhhO9rfPBA"
      },
      "source": [
        "import jovian"
      ],
      "execution_count": 57,
      "outputs": []
    },
    {
      "cell_type": "code",
      "metadata": {
        "colab": {
          "base_uri": "https://localhost:8080/",
          "height": 87
        },
        "id": "GRy6sXbwfPBB",
        "outputId": "b1e57640-6a64-481f-fbab-cb16f6f41354"
      },
      "source": [
        "# Execute this to save new versions of the notebook\n",
        "jovian.commit(project=\"heart-failure-prediction\")"
      ],
      "execution_count": 58,
      "outputs": [
        {
          "output_type": "stream",
          "name": "stdout",
          "text": [
            "[jovian] Detected Colab notebook...\u001b[0m\n",
            "[jovian] Uploading colab notebook to Jovian...\u001b[0m\n",
            "Committed successfully! https://jovian.ai/victoradejumo2/heart-failure-prediction\n"
          ]
        },
        {
          "output_type": "execute_result",
          "data": {
            "application/vnd.google.colaboratory.intrinsic+json": {
              "type": "string"
            },
            "text/plain": [
              "'https://jovian.ai/victoradejumo2/heart-failure-prediction'"
            ]
          },
          "metadata": {},
          "execution_count": 58
        }
      ]
    },
    {
      "cell_type": "code",
      "metadata": {
        "colab": {
          "base_uri": "https://localhost:8080/"
        },
        "id": "NuKKgZgNMoTD",
        "outputId": "f0da3e0f-ed95-487f-9a27-d8eb9aa3515e"
      },
      "source": [
        "from google.colab import drive\n",
        "drive.mount('/content/drive')"
      ],
      "execution_count": 59,
      "outputs": [
        {
          "output_type": "stream",
          "name": "stdout",
          "text": [
            "Drive already mounted at /content/drive; to attempt to forcibly remount, call drive.mount(\"/content/drive\", force_remount=True).\n"
          ]
        }
      ]
    },
    {
      "cell_type": "markdown",
      "metadata": {
        "id": "AvUoKLpHqy7a"
      },
      "source": [
        "#Heart Failure Prediction\n",
        "\n",
        "####Cardiovascular diseases (CVDs) are the number 1 cause of death globally, taking an estimated 17.9 million lives each year, which accounts for 31% of all deaths worlwide.\n",
        "####Heart failure is a common event caused by CVDs and this dataset contains 12 features that can be used to predict mortality by heart failure.\n",
        "\n",
        "####This project is to make a machine learning model to make early detection for CVDs to save peoples lives.\n",
        "\n",
        "####Some of the features used will include:\n",
        "\n",
        "####  - Age, Gender, Blood Pressure, Diabetes, Ejection Fraction, Smoke etc\n",
        "\n"
      ]
    },
    {
      "cell_type": "markdown",
      "metadata": {
        "id": "gO1VwyTHSgP1"
      },
      "source": [
        "####Data"
      ]
    },
    {
      "cell_type": "code",
      "metadata": {
        "id": "OVG21tRESy-P"
      },
      "source": [
        "import pandas as pd\n",
        "import numpy as np\n",
        "from sklearn.model_selection import train_test_split\n",
        "\n",
        "import seaborn as sns\n",
        "import matplotlib.pyplot as plt\n",
        "%matplotlib inline"
      ],
      "execution_count": 60,
      "outputs": []
    },
    {
      "cell_type": "code",
      "metadata": {
        "colab": {
          "base_uri": "https://localhost:8080/",
          "height": 443
        },
        "id": "updQu7IMTHhp",
        "outputId": "4e973930-4e5e-4d22-b718-91a83b92a80a"
      },
      "source": [
        "data = pd.read_csv('/content/drive/MyDrive/heart_failure_clinical_records_dataset.csv')\n",
        "data"
      ],
      "execution_count": 61,
      "outputs": [
        {
          "output_type": "execute_result",
          "data": {
            "text/html": [
              "<div>\n",
              "<style scoped>\n",
              "    .dataframe tbody tr th:only-of-type {\n",
              "        vertical-align: middle;\n",
              "    }\n",
              "\n",
              "    .dataframe tbody tr th {\n",
              "        vertical-align: top;\n",
              "    }\n",
              "\n",
              "    .dataframe thead th {\n",
              "        text-align: right;\n",
              "    }\n",
              "</style>\n",
              "<table border=\"1\" class=\"dataframe\">\n",
              "  <thead>\n",
              "    <tr style=\"text-align: right;\">\n",
              "      <th></th>\n",
              "      <th>age</th>\n",
              "      <th>anaemia</th>\n",
              "      <th>creatinine_phosphokinase</th>\n",
              "      <th>diabetes</th>\n",
              "      <th>ejection_fraction</th>\n",
              "      <th>high_blood_pressure</th>\n",
              "      <th>platelets</th>\n",
              "      <th>serum_creatinine</th>\n",
              "      <th>serum_sodium</th>\n",
              "      <th>sex</th>\n",
              "      <th>smoking</th>\n",
              "      <th>time</th>\n",
              "      <th>DEATH_EVENT</th>\n",
              "    </tr>\n",
              "  </thead>\n",
              "  <tbody>\n",
              "    <tr>\n",
              "      <th>0</th>\n",
              "      <td>75.0</td>\n",
              "      <td>0</td>\n",
              "      <td>582</td>\n",
              "      <td>0</td>\n",
              "      <td>20</td>\n",
              "      <td>1</td>\n",
              "      <td>265000.00</td>\n",
              "      <td>1.9</td>\n",
              "      <td>130</td>\n",
              "      <td>1</td>\n",
              "      <td>0</td>\n",
              "      <td>4</td>\n",
              "      <td>1</td>\n",
              "    </tr>\n",
              "    <tr>\n",
              "      <th>1</th>\n",
              "      <td>55.0</td>\n",
              "      <td>0</td>\n",
              "      <td>7861</td>\n",
              "      <td>0</td>\n",
              "      <td>38</td>\n",
              "      <td>0</td>\n",
              "      <td>263358.03</td>\n",
              "      <td>1.1</td>\n",
              "      <td>136</td>\n",
              "      <td>1</td>\n",
              "      <td>0</td>\n",
              "      <td>6</td>\n",
              "      <td>1</td>\n",
              "    </tr>\n",
              "    <tr>\n",
              "      <th>2</th>\n",
              "      <td>65.0</td>\n",
              "      <td>0</td>\n",
              "      <td>146</td>\n",
              "      <td>0</td>\n",
              "      <td>20</td>\n",
              "      <td>0</td>\n",
              "      <td>162000.00</td>\n",
              "      <td>1.3</td>\n",
              "      <td>129</td>\n",
              "      <td>1</td>\n",
              "      <td>1</td>\n",
              "      <td>7</td>\n",
              "      <td>1</td>\n",
              "    </tr>\n",
              "    <tr>\n",
              "      <th>3</th>\n",
              "      <td>50.0</td>\n",
              "      <td>1</td>\n",
              "      <td>111</td>\n",
              "      <td>0</td>\n",
              "      <td>20</td>\n",
              "      <td>0</td>\n",
              "      <td>210000.00</td>\n",
              "      <td>1.9</td>\n",
              "      <td>137</td>\n",
              "      <td>1</td>\n",
              "      <td>0</td>\n",
              "      <td>7</td>\n",
              "      <td>1</td>\n",
              "    </tr>\n",
              "    <tr>\n",
              "      <th>4</th>\n",
              "      <td>65.0</td>\n",
              "      <td>1</td>\n",
              "      <td>160</td>\n",
              "      <td>1</td>\n",
              "      <td>20</td>\n",
              "      <td>0</td>\n",
              "      <td>327000.00</td>\n",
              "      <td>2.7</td>\n",
              "      <td>116</td>\n",
              "      <td>0</td>\n",
              "      <td>0</td>\n",
              "      <td>8</td>\n",
              "      <td>1</td>\n",
              "    </tr>\n",
              "    <tr>\n",
              "      <th>...</th>\n",
              "      <td>...</td>\n",
              "      <td>...</td>\n",
              "      <td>...</td>\n",
              "      <td>...</td>\n",
              "      <td>...</td>\n",
              "      <td>...</td>\n",
              "      <td>...</td>\n",
              "      <td>...</td>\n",
              "      <td>...</td>\n",
              "      <td>...</td>\n",
              "      <td>...</td>\n",
              "      <td>...</td>\n",
              "      <td>...</td>\n",
              "    </tr>\n",
              "    <tr>\n",
              "      <th>294</th>\n",
              "      <td>62.0</td>\n",
              "      <td>0</td>\n",
              "      <td>61</td>\n",
              "      <td>1</td>\n",
              "      <td>38</td>\n",
              "      <td>1</td>\n",
              "      <td>155000.00</td>\n",
              "      <td>1.1</td>\n",
              "      <td>143</td>\n",
              "      <td>1</td>\n",
              "      <td>1</td>\n",
              "      <td>270</td>\n",
              "      <td>0</td>\n",
              "    </tr>\n",
              "    <tr>\n",
              "      <th>295</th>\n",
              "      <td>55.0</td>\n",
              "      <td>0</td>\n",
              "      <td>1820</td>\n",
              "      <td>0</td>\n",
              "      <td>38</td>\n",
              "      <td>0</td>\n",
              "      <td>270000.00</td>\n",
              "      <td>1.2</td>\n",
              "      <td>139</td>\n",
              "      <td>0</td>\n",
              "      <td>0</td>\n",
              "      <td>271</td>\n",
              "      <td>0</td>\n",
              "    </tr>\n",
              "    <tr>\n",
              "      <th>296</th>\n",
              "      <td>45.0</td>\n",
              "      <td>0</td>\n",
              "      <td>2060</td>\n",
              "      <td>1</td>\n",
              "      <td>60</td>\n",
              "      <td>0</td>\n",
              "      <td>742000.00</td>\n",
              "      <td>0.8</td>\n",
              "      <td>138</td>\n",
              "      <td>0</td>\n",
              "      <td>0</td>\n",
              "      <td>278</td>\n",
              "      <td>0</td>\n",
              "    </tr>\n",
              "    <tr>\n",
              "      <th>297</th>\n",
              "      <td>45.0</td>\n",
              "      <td>0</td>\n",
              "      <td>2413</td>\n",
              "      <td>0</td>\n",
              "      <td>38</td>\n",
              "      <td>0</td>\n",
              "      <td>140000.00</td>\n",
              "      <td>1.4</td>\n",
              "      <td>140</td>\n",
              "      <td>1</td>\n",
              "      <td>1</td>\n",
              "      <td>280</td>\n",
              "      <td>0</td>\n",
              "    </tr>\n",
              "    <tr>\n",
              "      <th>298</th>\n",
              "      <td>50.0</td>\n",
              "      <td>0</td>\n",
              "      <td>196</td>\n",
              "      <td>0</td>\n",
              "      <td>45</td>\n",
              "      <td>0</td>\n",
              "      <td>395000.00</td>\n",
              "      <td>1.6</td>\n",
              "      <td>136</td>\n",
              "      <td>1</td>\n",
              "      <td>1</td>\n",
              "      <td>285</td>\n",
              "      <td>0</td>\n",
              "    </tr>\n",
              "  </tbody>\n",
              "</table>\n",
              "<p>299 rows × 13 columns</p>\n",
              "</div>"
            ],
            "text/plain": [
              "      age  anaemia  creatinine_phosphokinase  ...  smoking  time  DEATH_EVENT\n",
              "0    75.0        0                       582  ...        0     4            1\n",
              "1    55.0        0                      7861  ...        0     6            1\n",
              "2    65.0        0                       146  ...        1     7            1\n",
              "3    50.0        1                       111  ...        0     7            1\n",
              "4    65.0        1                       160  ...        0     8            1\n",
              "..    ...      ...                       ...  ...      ...   ...          ...\n",
              "294  62.0        0                        61  ...        1   270            0\n",
              "295  55.0        0                      1820  ...        0   271            0\n",
              "296  45.0        0                      2060  ...        0   278            0\n",
              "297  45.0        0                      2413  ...        1   280            0\n",
              "298  50.0        0                       196  ...        1   285            0\n",
              "\n",
              "[299 rows x 13 columns]"
            ]
          },
          "metadata": {},
          "execution_count": 61
        }
      ]
    },
    {
      "cell_type": "markdown",
      "metadata": {
        "id": "YbbS7SIwh6Hd"
      },
      "source": [
        "For DEATH_EVENT column,\n",
        "Death == 1\n",
        "Alive == 0"
      ]
    },
    {
      "cell_type": "code",
      "metadata": {
        "colab": {
          "base_uri": "https://localhost:8080/"
        },
        "id": "F-AciVK2Trrc",
        "outputId": "379c715c-56d3-4860-c15c-1d25356db947"
      },
      "source": [
        "data.shape"
      ],
      "execution_count": 62,
      "outputs": [
        {
          "output_type": "execute_result",
          "data": {
            "text/plain": [
              "(299, 13)"
            ]
          },
          "metadata": {},
          "execution_count": 62
        }
      ]
    },
    {
      "cell_type": "code",
      "metadata": {
        "colab": {
          "base_uri": "https://localhost:8080/"
        },
        "id": "7ycUjFFST3HR",
        "outputId": "9c3ed8e5-9d32-4c21-c524-3664368243a1"
      },
      "source": [
        "data.info()"
      ],
      "execution_count": 63,
      "outputs": [
        {
          "output_type": "stream",
          "name": "stdout",
          "text": [
            "<class 'pandas.core.frame.DataFrame'>\n",
            "RangeIndex: 299 entries, 0 to 298\n",
            "Data columns (total 13 columns):\n",
            " #   Column                    Non-Null Count  Dtype  \n",
            "---  ------                    --------------  -----  \n",
            " 0   age                       299 non-null    float64\n",
            " 1   anaemia                   299 non-null    int64  \n",
            " 2   creatinine_phosphokinase  299 non-null    int64  \n",
            " 3   diabetes                  299 non-null    int64  \n",
            " 4   ejection_fraction         299 non-null    int64  \n",
            " 5   high_blood_pressure       299 non-null    int64  \n",
            " 6   platelets                 299 non-null    float64\n",
            " 7   serum_creatinine          299 non-null    float64\n",
            " 8   serum_sodium              299 non-null    int64  \n",
            " 9   sex                       299 non-null    int64  \n",
            " 10  smoking                   299 non-null    int64  \n",
            " 11  time                      299 non-null    int64  \n",
            " 12  DEATH_EVENT               299 non-null    int64  \n",
            "dtypes: float64(3), int64(10)\n",
            "memory usage: 30.5 KB\n"
          ]
        }
      ]
    },
    {
      "cell_type": "code",
      "metadata": {
        "colab": {
          "base_uri": "https://localhost:8080/",
          "height": 320
        },
        "id": "nK8-DeKnT8Bl",
        "outputId": "b7155894-99a9-47f2-a86b-570e01b078ce"
      },
      "source": [
        "data.describe()"
      ],
      "execution_count": 64,
      "outputs": [
        {
          "output_type": "execute_result",
          "data": {
            "text/html": [
              "<div>\n",
              "<style scoped>\n",
              "    .dataframe tbody tr th:only-of-type {\n",
              "        vertical-align: middle;\n",
              "    }\n",
              "\n",
              "    .dataframe tbody tr th {\n",
              "        vertical-align: top;\n",
              "    }\n",
              "\n",
              "    .dataframe thead th {\n",
              "        text-align: right;\n",
              "    }\n",
              "</style>\n",
              "<table border=\"1\" class=\"dataframe\">\n",
              "  <thead>\n",
              "    <tr style=\"text-align: right;\">\n",
              "      <th></th>\n",
              "      <th>age</th>\n",
              "      <th>anaemia</th>\n",
              "      <th>creatinine_phosphokinase</th>\n",
              "      <th>diabetes</th>\n",
              "      <th>ejection_fraction</th>\n",
              "      <th>high_blood_pressure</th>\n",
              "      <th>platelets</th>\n",
              "      <th>serum_creatinine</th>\n",
              "      <th>serum_sodium</th>\n",
              "      <th>sex</th>\n",
              "      <th>smoking</th>\n",
              "      <th>time</th>\n",
              "      <th>DEATH_EVENT</th>\n",
              "    </tr>\n",
              "  </thead>\n",
              "  <tbody>\n",
              "    <tr>\n",
              "      <th>count</th>\n",
              "      <td>299.000000</td>\n",
              "      <td>299.000000</td>\n",
              "      <td>299.000000</td>\n",
              "      <td>299.000000</td>\n",
              "      <td>299.000000</td>\n",
              "      <td>299.000000</td>\n",
              "      <td>299.000000</td>\n",
              "      <td>299.00000</td>\n",
              "      <td>299.000000</td>\n",
              "      <td>299.000000</td>\n",
              "      <td>299.00000</td>\n",
              "      <td>299.000000</td>\n",
              "      <td>299.00000</td>\n",
              "    </tr>\n",
              "    <tr>\n",
              "      <th>mean</th>\n",
              "      <td>60.833893</td>\n",
              "      <td>0.431438</td>\n",
              "      <td>581.839465</td>\n",
              "      <td>0.418060</td>\n",
              "      <td>38.083612</td>\n",
              "      <td>0.351171</td>\n",
              "      <td>263358.029264</td>\n",
              "      <td>1.39388</td>\n",
              "      <td>136.625418</td>\n",
              "      <td>0.648829</td>\n",
              "      <td>0.32107</td>\n",
              "      <td>130.260870</td>\n",
              "      <td>0.32107</td>\n",
              "    </tr>\n",
              "    <tr>\n",
              "      <th>std</th>\n",
              "      <td>11.894809</td>\n",
              "      <td>0.496107</td>\n",
              "      <td>970.287881</td>\n",
              "      <td>0.494067</td>\n",
              "      <td>11.834841</td>\n",
              "      <td>0.478136</td>\n",
              "      <td>97804.236869</td>\n",
              "      <td>1.03451</td>\n",
              "      <td>4.412477</td>\n",
              "      <td>0.478136</td>\n",
              "      <td>0.46767</td>\n",
              "      <td>77.614208</td>\n",
              "      <td>0.46767</td>\n",
              "    </tr>\n",
              "    <tr>\n",
              "      <th>min</th>\n",
              "      <td>40.000000</td>\n",
              "      <td>0.000000</td>\n",
              "      <td>23.000000</td>\n",
              "      <td>0.000000</td>\n",
              "      <td>14.000000</td>\n",
              "      <td>0.000000</td>\n",
              "      <td>25100.000000</td>\n",
              "      <td>0.50000</td>\n",
              "      <td>113.000000</td>\n",
              "      <td>0.000000</td>\n",
              "      <td>0.00000</td>\n",
              "      <td>4.000000</td>\n",
              "      <td>0.00000</td>\n",
              "    </tr>\n",
              "    <tr>\n",
              "      <th>25%</th>\n",
              "      <td>51.000000</td>\n",
              "      <td>0.000000</td>\n",
              "      <td>116.500000</td>\n",
              "      <td>0.000000</td>\n",
              "      <td>30.000000</td>\n",
              "      <td>0.000000</td>\n",
              "      <td>212500.000000</td>\n",
              "      <td>0.90000</td>\n",
              "      <td>134.000000</td>\n",
              "      <td>0.000000</td>\n",
              "      <td>0.00000</td>\n",
              "      <td>73.000000</td>\n",
              "      <td>0.00000</td>\n",
              "    </tr>\n",
              "    <tr>\n",
              "      <th>50%</th>\n",
              "      <td>60.000000</td>\n",
              "      <td>0.000000</td>\n",
              "      <td>250.000000</td>\n",
              "      <td>0.000000</td>\n",
              "      <td>38.000000</td>\n",
              "      <td>0.000000</td>\n",
              "      <td>262000.000000</td>\n",
              "      <td>1.10000</td>\n",
              "      <td>137.000000</td>\n",
              "      <td>1.000000</td>\n",
              "      <td>0.00000</td>\n",
              "      <td>115.000000</td>\n",
              "      <td>0.00000</td>\n",
              "    </tr>\n",
              "    <tr>\n",
              "      <th>75%</th>\n",
              "      <td>70.000000</td>\n",
              "      <td>1.000000</td>\n",
              "      <td>582.000000</td>\n",
              "      <td>1.000000</td>\n",
              "      <td>45.000000</td>\n",
              "      <td>1.000000</td>\n",
              "      <td>303500.000000</td>\n",
              "      <td>1.40000</td>\n",
              "      <td>140.000000</td>\n",
              "      <td>1.000000</td>\n",
              "      <td>1.00000</td>\n",
              "      <td>203.000000</td>\n",
              "      <td>1.00000</td>\n",
              "    </tr>\n",
              "    <tr>\n",
              "      <th>max</th>\n",
              "      <td>95.000000</td>\n",
              "      <td>1.000000</td>\n",
              "      <td>7861.000000</td>\n",
              "      <td>1.000000</td>\n",
              "      <td>80.000000</td>\n",
              "      <td>1.000000</td>\n",
              "      <td>850000.000000</td>\n",
              "      <td>9.40000</td>\n",
              "      <td>148.000000</td>\n",
              "      <td>1.000000</td>\n",
              "      <td>1.00000</td>\n",
              "      <td>285.000000</td>\n",
              "      <td>1.00000</td>\n",
              "    </tr>\n",
              "  </tbody>\n",
              "</table>\n",
              "</div>"
            ],
            "text/plain": [
              "              age     anaemia  ...        time  DEATH_EVENT\n",
              "count  299.000000  299.000000  ...  299.000000    299.00000\n",
              "mean    60.833893    0.431438  ...  130.260870      0.32107\n",
              "std     11.894809    0.496107  ...   77.614208      0.46767\n",
              "min     40.000000    0.000000  ...    4.000000      0.00000\n",
              "25%     51.000000    0.000000  ...   73.000000      0.00000\n",
              "50%     60.000000    0.000000  ...  115.000000      0.00000\n",
              "75%     70.000000    1.000000  ...  203.000000      1.00000\n",
              "max     95.000000    1.000000  ...  285.000000      1.00000\n",
              "\n",
              "[8 rows x 13 columns]"
            ]
          },
          "metadata": {},
          "execution_count": 64
        }
      ]
    },
    {
      "cell_type": "code",
      "metadata": {
        "colab": {
          "base_uri": "https://localhost:8080/"
        },
        "id": "Fx5oMX3NULe4",
        "outputId": "eb8e2c04-3fd9-4822-e2a3-eb83301ee7c8"
      },
      "source": [
        "data.isnull().sum()"
      ],
      "execution_count": 65,
      "outputs": [
        {
          "output_type": "execute_result",
          "data": {
            "text/plain": [
              "age                         0\n",
              "anaemia                     0\n",
              "creatinine_phosphokinase    0\n",
              "diabetes                    0\n",
              "ejection_fraction           0\n",
              "high_blood_pressure         0\n",
              "platelets                   0\n",
              "serum_creatinine            0\n",
              "serum_sodium                0\n",
              "sex                         0\n",
              "smoking                     0\n",
              "time                        0\n",
              "DEATH_EVENT                 0\n",
              "dtype: int64"
            ]
          },
          "metadata": {},
          "execution_count": 65
        }
      ]
    },
    {
      "cell_type": "markdown",
      "metadata": {
        "id": "HhbNLWsIiFG4"
      },
      "source": [
        "Explanatory Data Analysis"
      ]
    },
    {
      "cell_type": "code",
      "metadata": {
        "colab": {
          "base_uri": "https://localhost:8080/",
          "height": 283
        },
        "id": "GBPQH7XRiLlV",
        "outputId": "44f74b3e-6b69-4626-955b-5f0eee3c1a72"
      },
      "source": [
        "#Data distribution for death cases\n",
        "len_live = len(data[\"DEATH_EVENT\"][data.DEATH_EVENT == 0])\n",
        "len_death = len(data[\"DEATH_EVENT\"][data.DEATH_EVENT == 1])\n",
        "\n",
        "arr = np.array([len_live, len_death])\n",
        "labels = ['LIVING', 'DIED']\n",
        "print(\"Total No of living cases: \", len_live)\n",
        "print(\"Total No of : death cases: \", len_death)\n",
        "\n",
        "plt.pie(arr, labels=labels, explode=[0.1,0.0], shadow=True)\n",
        "plt.show()"
      ],
      "execution_count": 66,
      "outputs": [
        {
          "output_type": "stream",
          "name": "stdout",
          "text": [
            "Total No of living cases:  203\n",
            "Total No of : death cases:  96\n"
          ]
        },
        {
          "output_type": "display_data",
          "data": {
            "image/png": "[encoded data removed]",
            "text/plain": [
              "<Figure size 432x288 with 1 Axes>"
            ]
          },
          "metadata": {}
        }
      ]
    },
    {
      "cell_type": "code",
      "metadata": {
        "colab": {
          "base_uri": "https://localhost:8080/",
          "height": 338
        },
        "id": "-dyAXio7koCN",
        "outputId": "25acaa51-065e-4b46-a252-82ed7ca703d7"
      },
      "source": [
        "#age distribution\n",
        "\n",
        "sns.distplot(data['age'])\n",
        "plt.show()"
      ],
      "execution_count": 67,
      "outputs": [
        {
          "output_type": "stream",
          "name": "stderr",
          "text": [
            "/usr/local/lib/python3.7/dist-packages/seaborn/distributions.py:2619: FutureWarning: `distplot` is a deprecated function and will be removed in a future version. Please adapt your code to use either `displot` (a figure-level function with similar flexibility) or `histplot` (an axes-level function for histograms).\n",
            "  warnings.warn(msg, FutureWarning)\n"
          ]
        },
        {
          "output_type": "display_data",
          "data": {
            "image/png": "[encoded data removed]",
            "text/plain": [
              "<Figure size 432x288 with 1 Axes>"
            ]
          },
          "metadata": {
            "needs_background": "light"
          }
        }
      ]
    },
    {
      "cell_type": "code",
      "metadata": {
        "colab": {
          "base_uri": "https://localhost:8080/",
          "height": 283
        },
        "id": "-RId3g9TwcVT",
        "outputId": "ce31ddab-c686-422c-a27a-18fc4d10a672"
      },
      "source": [
        "#Selecting rows of 50 years and above to show dead or not \n",
        "\n",
        "above_50_notdead = data[\"DEATH_EVENT\"][data.age >= 50][data.DEATH_EVENT == 0]\n",
        "above_50_dead = data[\"DEATH_EVENT\"][data.age >= 50][data.DEATH_EVENT == 1]\n",
        "\n",
        "len_not_dead = len(above_50_notdead)\n",
        "len_dead = len(above_50_dead)\n",
        "\n",
        "arr1 = [len_not_dead, len_dead]\n",
        "labels = [\"DEAD\", \"NOT DEAD\"]\n",
        "print(\"Total No of living cases: \", len_not_dead)\n",
        "print(\"Total No of : death cases: \", len_dead)\n",
        "\n",
        "plt.pie(arr1, labels=labels, explode=[0.1,0.0], shadow=True)\n",
        "plt.show()"
      ],
      "execution_count": 68,
      "outputs": [
        {
          "output_type": "stream",
          "name": "stdout",
          "text": [
            "Total No of living cases:  167\n",
            "Total No of : death cases:  85\n"
          ]
        },
        {
          "output_type": "display_data",
          "data": {
            "image/png": "[encoded data removed]",
            "text/plain": [
              "<Figure size 432x288 with 1 Axes>"
            ]
          },
          "metadata": {}
        }
      ]
    },
    {
      "cell_type": "code",
      "metadata": {
        "colab": {
          "base_uri": "https://localhost:8080/",
          "height": 283
        },
        "id": "7EFJxlBs2a7l",
        "outputId": "cb07f3ab-6378-4b71-ffbb-b61bcc7eb5b1"
      },
      "source": [
        "above_50_notdead = data[\"DEATH_EVENT\"][data.diabetes == 1][data.DEATH_EVENT == 0]\n",
        "above_50_dead = data[\"DEATH_EVENT\"][data.diabetes == 1][data.DEATH_EVENT == 1]\n",
        "\n",
        "len_not_dead = len(above_50_notdead)\n",
        "len_dead = len(above_50_dead)\n",
        "\n",
        "arr1 = [len_not_dead, len_dead]\n",
        "labels = [\"DEAD\", \"NOT DEAD\"]\n",
        "print(\"Total No of living cases: \", len_not_dead)\n",
        "print(\"Total No of : death cases: \", len_dead)\n",
        "\n",
        "plt.pie(arr1, labels=labels, explode=[0.1,0.0], shadow=True)\n",
        "plt.show()"
      ],
      "execution_count": 69,
      "outputs": [
        {
          "output_type": "stream",
          "name": "stdout",
          "text": [
            "Total No of living cases:  85\n",
            "Total No of : death cases:  40\n"
          ]
        },
        {
          "output_type": "display_data",
          "data": {
            "image/png": "[encoded data removed]",
            "text/plain": [
              "<Figure size 432x288 with 1 Axes>"
            ]
          },
          "metadata": {}
        }
      ]
    },
    {
      "cell_type": "code",
      "metadata": {
        "colab": {
          "base_uri": "https://localhost:8080/",
          "height": 925
        },
        "id": "y5QHZMYHT4tM",
        "outputId": "d5606cae-b423-48c6-bff5-b1696715f691"
      },
      "source": [
        "# checking the Correlation of the variables\n",
        "\n",
        "corr = data.corr()\n",
        "plt.subplots(figsize=(15,15))\n",
        "sns.heatmap(corr, annot=True)"
      ],
      "execution_count": 70,
      "outputs": [
        {
          "output_type": "execute_result",
          "data": {
            "text/plain": [
              "<matplotlib.axes._subplots.AxesSubplot at 0x7f45bd327250>"
            ]
          },
          "metadata": {},
          "execution_count": 70
        },
        {
          "output_type": "display_data",
          "data": {
            "image/png": "[encoded data removed]",
            "text/plain": [
              "<Figure size 1080x1080 with 2 Axes>"
            ]
          },
          "metadata": {
            "needs_background": "light"
          }
        }
      ]
    },
    {
      "cell_type": "markdown",
      "metadata": {
        "id": "1bHDlVszHvHx"
      },
      "source": [
        "#####Correlation is between -1 to +1"
      ]
    },
    {
      "cell_type": "code",
      "metadata": {
        "colab": {
          "base_uri": "https://localhost:8080/",
          "height": 338
        },
        "id": "tDu7OV2uH1Cv",
        "outputId": "d236bee2-c111-4cb2-fa0e-427589ad966e"
      },
      "source": [
        "data.corr().style.background_gradient(cmap='coolwarm')"
      ],
      "execution_count": 71,
      "outputs": [
        {
          "output_type": "execute_result",
          "data": {
            "text/html": [
              "<style  type=\"text/css\" >\n",
              "#T_13a6cd1a_27b2_11ec_ade1_0242ac1c0002row0_col0,#T_13a6cd1a_27b2_11ec_ade1_0242ac1c0002row1_col1,#T_13a6cd1a_27b2_11ec_ade1_0242ac1c0002row2_col2,#T_13a6cd1a_27b2_11ec_ade1_0242ac1c0002row3_col3,#T_13a6cd1a_27b2_11ec_ade1_0242ac1c0002row4_col4,#T_13a6cd1a_27b2_11ec_ade1_0242ac1c0002row5_col5,#T_13a6cd1a_27b2_11ec_ade1_0242ac1c0002row6_col6,#T_13a6cd1a_27b2_11ec_ade1_0242ac1c0002row7_col7,#T_13a6cd1a_27b2_11ec_ade1_0242ac1c0002row8_col8,#T_13a6cd1a_27b2_11ec_ade1_0242ac1c0002row9_col9,#T_13a6cd1a_27b2_11ec_ade1_0242ac1c0002row10_col10,#T_13a6cd1a_27b2_11ec_ade1_0242ac1c0002row11_col11,#T_13a6cd1a_27b2_11ec_ade1_0242ac1c0002row12_col12{\n",
              "            background-color:  #b40426;\n",
              "            color:  #f1f1f1;\n",
              "        }#T_13a6cd1a_27b2_11ec_ade1_0242ac1c0002row0_col1,#T_13a6cd1a_27b2_11ec_ade1_0242ac1c0002row4_col0,#T_13a6cd1a_27b2_11ec_ade1_0242ac1c0002row5_col4,#T_13a6cd1a_27b2_11ec_ade1_0242ac1c0002row12_col5{\n",
              "            background-color:  #86a9fc;\n",
              "            color:  #000000;\n",
              "        }#T_13a6cd1a_27b2_11ec_ade1_0242ac1c0002row0_col2{\n",
              "            background-color:  #5673e0;\n",
              "            color:  #000000;\n",
              "        }#T_13a6cd1a_27b2_11ec_ade1_0242ac1c0002row0_col3{\n",
              "            background-color:  #4961d2;\n",
              "            color:  #f1f1f1;\n",
              "        }#T_13a6cd1a_27b2_11ec_ade1_0242ac1c0002row0_col4,#T_13a6cd1a_27b2_11ec_ade1_0242ac1c0002row5_col0{\n",
              "            background-color:  #90b2fe;\n",
              "            color:  #000000;\n",
              "        }#T_13a6cd1a_27b2_11ec_ade1_0242ac1c0002row0_col5{\n",
              "            background-color:  #89acfd;\n",
              "            color:  #000000;\n",
              "        }#T_13a6cd1a_27b2_11ec_ade1_0242ac1c0002row0_col6{\n",
              "            background-color:  #4e68d8;\n",
              "            color:  #000000;\n",
              "        }#T_13a6cd1a_27b2_11ec_ade1_0242ac1c0002row0_col7{\n",
              "            background-color:  #9bbcff;\n",
              "            color:  #000000;\n",
              "        }#T_13a6cd1a_27b2_11ec_ade1_0242ac1c0002row0_col8,#T_13a6cd1a_27b2_11ec_ade1_0242ac1c0002row4_col2,#T_13a6cd1a_27b2_11ec_ade1_0242ac1c0002row6_col1,#T_13a6cd1a_27b2_11ec_ade1_0242ac1c0002row6_col7,#T_13a6cd1a_27b2_11ec_ade1_0242ac1c0002row11_col9{\n",
              "            background-color:  #6180e9;\n",
              "            color:  #000000;\n",
              "        }#T_13a6cd1a_27b2_11ec_ade1_0242ac1c0002row0_col9,#T_13a6cd1a_27b2_11ec_ade1_0242ac1c0002row3_col6,#T_13a6cd1a_27b2_11ec_ade1_0242ac1c0002row5_col1,#T_13a6cd1a_27b2_11ec_ade1_0242ac1c0002row5_col8,#T_13a6cd1a_27b2_11ec_ade1_0242ac1c0002row8_col5{\n",
              "            background-color:  #799cf8;\n",
              "            color:  #000000;\n",
              "        }#T_13a6cd1a_27b2_11ec_ade1_0242ac1c0002row0_col10,#T_13a6cd1a_27b2_11ec_ade1_0242ac1c0002row2_col7,#T_13a6cd1a_27b2_11ec_ade1_0242ac1c0002row7_col2,#T_13a6cd1a_27b2_11ec_ade1_0242ac1c0002row8_col0{\n",
              "            background-color:  #688aef;\n",
              "            color:  #000000;\n",
              "        }#T_13a6cd1a_27b2_11ec_ade1_0242ac1c0002row0_col11,#T_13a6cd1a_27b2_11ec_ade1_0242ac1c0002row1_col5,#T_13a6cd1a_27b2_11ec_ade1_0242ac1c0002row1_col8,#T_13a6cd1a_27b2_11ec_ade1_0242ac1c0002row8_col1,#T_13a6cd1a_27b2_11ec_ade1_0242ac1c0002row10_col0{\n",
              "            background-color:  #7a9df8;\n",
              "            color:  #000000;\n",
              "        }#T_13a6cd1a_27b2_11ec_ade1_0242ac1c0002row0_col12{\n",
              "            background-color:  #dfdbd9;\n",
              "            color:  #000000;\n",
              "        }#T_13a6cd1a_27b2_11ec_ade1_0242ac1c0002row1_col0{\n",
              "            background-color:  #8fb1fe;\n",
              "            color:  #000000;\n",
              "        }#T_13a6cd1a_27b2_11ec_ade1_0242ac1c0002row1_col2,#T_13a6cd1a_27b2_11ec_ade1_0242ac1c0002row2_col1,#T_13a6cd1a_27b2_11ec_ade1_0242ac1c0002row3_col9,#T_13a6cd1a_27b2_11ec_ade1_0242ac1c0002row3_col10,#T_13a6cd1a_27b2_11ec_ade1_0242ac1c0002row8_col7,#T_13a6cd1a_27b2_11ec_ade1_0242ac1c0002row9_col3,#T_13a6cd1a_27b2_11ec_ade1_0242ac1c0002row9_col6,#T_13a6cd1a_27b2_11ec_ade1_0242ac1c0002row11_col0,#T_13a6cd1a_27b2_11ec_ade1_0242ac1c0002row11_col5,#T_13a6cd1a_27b2_11ec_ade1_0242ac1c0002row11_col12,#T_13a6cd1a_27b2_11ec_ade1_0242ac1c0002row12_col4,#T_13a6cd1a_27b2_11ec_ade1_0242ac1c0002row12_col8,#T_13a6cd1a_27b2_11ec_ade1_0242ac1c0002row12_col11{\n",
              "            background-color:  #3b4cc0;\n",
              "            color:  #f1f1f1;\n",
              "        }#T_13a6cd1a_27b2_11ec_ade1_0242ac1c0002row1_col3,#T_13a6cd1a_27b2_11ec_ade1_0242ac1c0002row2_col3,#T_13a6cd1a_27b2_11ec_ade1_0242ac1c0002row5_col3{\n",
              "            background-color:  #6282ea;\n",
              "            color:  #000000;\n",
              "        }#T_13a6cd1a_27b2_11ec_ade1_0242ac1c0002row1_col4,#T_13a6cd1a_27b2_11ec_ade1_0242ac1c0002row9_col0,#T_13a6cd1a_27b2_11ec_ade1_0242ac1c0002row11_col8{\n",
              "            background-color:  #88abfd;\n",
              "            color:  #000000;\n",
              "        }#T_13a6cd1a_27b2_11ec_ade1_0242ac1c0002row1_col6{\n",
              "            background-color:  #506bda;\n",
              "            color:  #000000;\n",
              "        }#T_13a6cd1a_27b2_11ec_ade1_0242ac1c0002row1_col7,#T_13a6cd1a_27b2_11ec_ade1_0242ac1c0002row7_col4{\n",
              "            background-color:  #7b9ff9;\n",
              "            color:  #000000;\n",
              "        }#T_13a6cd1a_27b2_11ec_ade1_0242ac1c0002row1_col9{\n",
              "            background-color:  #4a63d3;\n",
              "            color:  #f1f1f1;\n",
              "        }#T_13a6cd1a_27b2_11ec_ade1_0242ac1c0002row1_col10,#T_13a6cd1a_27b2_11ec_ade1_0242ac1c0002row11_col7{\n",
              "            background-color:  #445acc;\n",
              "            color:  #f1f1f1;\n",
              "        }#T_13a6cd1a_27b2_11ec_ade1_0242ac1c0002row1_col11{\n",
              "            background-color:  #8db0fe;\n",
              "            color:  #000000;\n",
              "        }#T_13a6cd1a_27b2_11ec_ade1_0242ac1c0002row1_col12,#T_13a6cd1a_27b2_11ec_ade1_0242ac1c0002row12_col0{\n",
              "            background-color:  #bcd2f7;\n",
              "            color:  #000000;\n",
              "        }#T_13a6cd1a_27b2_11ec_ade1_0242ac1c0002row2_col0{\n",
              "            background-color:  #5e7de7;\n",
              "            color:  #000000;\n",
              "        }#T_13a6cd1a_27b2_11ec_ade1_0242ac1c0002row2_col4{\n",
              "            background-color:  #7396f5;\n",
              "            color:  #000000;\n",
              "        }#T_13a6cd1a_27b2_11ec_ade1_0242ac1c0002row2_col5,#T_13a6cd1a_27b2_11ec_ade1_0242ac1c0002row7_col10{\n",
              "            background-color:  #5a78e4;\n",
              "            color:  #000000;\n",
              "        }#T_13a6cd1a_27b2_11ec_ade1_0242ac1c0002row2_col6,#T_13a6cd1a_27b2_11ec_ade1_0242ac1c0002row10_col6,#T_13a6cd1a_27b2_11ec_ade1_0242ac1c0002row10_col7,#T_13a6cd1a_27b2_11ec_ade1_0242ac1c0002row12_col3{\n",
              "            background-color:  #6485ec;\n",
              "            color:  #000000;\n",
              "        }#T_13a6cd1a_27b2_11ec_ade1_0242ac1c0002row2_col8,#T_13a6cd1a_27b2_11ec_ade1_0242ac1c0002row12_col2{\n",
              "            background-color:  #80a3fa;\n",
              "            color:  #000000;\n",
              "        }#T_13a6cd1a_27b2_11ec_ade1_0242ac1c0002row2_col9,#T_13a6cd1a_27b2_11ec_ade1_0242ac1c0002row6_col5,#T_13a6cd1a_27b2_11ec_ade1_0242ac1c0002row7_col1{\n",
              "            background-color:  #7da0f9;\n",
              "            color:  #000000;\n",
              "        }#T_13a6cd1a_27b2_11ec_ade1_0242ac1c0002row2_col10,#T_13a6cd1a_27b2_11ec_ade1_0242ac1c0002row4_col3,#T_13a6cd1a_27b2_11ec_ade1_0242ac1c0002row8_col10,#T_13a6cd1a_27b2_11ec_ade1_0242ac1c0002row12_col9{\n",
              "            background-color:  #6384eb;\n",
              "            color:  #000000;\n",
              "        }#T_13a6cd1a_27b2_11ec_ade1_0242ac1c0002row2_col11,#T_13a6cd1a_27b2_11ec_ade1_0242ac1c0002row10_col12{\n",
              "            background-color:  #abc8fd;\n",
              "            color:  #000000;\n",
              "        }#T_13a6cd1a_27b2_11ec_ade1_0242ac1c0002row2_col12{\n",
              "            background-color:  #bbd1f8;\n",
              "            color:  #000000;\n",
              "        }#T_13a6cd1a_27b2_11ec_ade1_0242ac1c0002row3_col0,#T_13a6cd1a_27b2_11ec_ade1_0242ac1c0002row5_col2{\n",
              "            background-color:  #5977e3;\n",
              "            color:  #000000;\n",
              "        }#T_13a6cd1a_27b2_11ec_ade1_0242ac1c0002row3_col1,#T_13a6cd1a_27b2_11ec_ade1_0242ac1c0002row3_col2,#T_13a6cd1a_27b2_11ec_ade1_0242ac1c0002row4_col7,#T_13a6cd1a_27b2_11ec_ade1_0242ac1c0002row11_col2{\n",
              "            background-color:  #6a8bef;\n",
              "            color:  #000000;\n",
              "        }#T_13a6cd1a_27b2_11ec_ade1_0242ac1c0002row3_col4,#T_13a6cd1a_27b2_11ec_ade1_0242ac1c0002row8_col2{\n",
              "            background-color:  #7ea1fa;\n",
              "            color:  #000000;\n",
              "        }#T_13a6cd1a_27b2_11ec_ade1_0242ac1c0002row3_col5,#T_13a6cd1a_27b2_11ec_ade1_0242ac1c0002row5_col6,#T_13a6cd1a_27b2_11ec_ade1_0242ac1c0002row5_col7,#T_13a6cd1a_27b2_11ec_ade1_0242ac1c0002row6_col10{\n",
              "            background-color:  #6b8df0;\n",
              "            color:  #000000;\n",
              "        }#T_13a6cd1a_27b2_11ec_ade1_0242ac1c0002row3_col7,#T_13a6cd1a_27b2_11ec_ade1_0242ac1c0002row10_col5,#T_13a6cd1a_27b2_11ec_ade1_0242ac1c0002row11_col6,#T_13a6cd1a_27b2_11ec_ade1_0242ac1c0002row12_col10{\n",
              "            background-color:  #5f7fe8;\n",
              "            color:  #000000;\n",
              "        }#T_13a6cd1a_27b2_11ec_ade1_0242ac1c0002row3_col8{\n",
              "            background-color:  #5572df;\n",
              "            color:  #000000;\n",
              "        }#T_13a6cd1a_27b2_11ec_ade1_0242ac1c0002row3_col11{\n",
              "            background-color:  #b6cefa;\n",
              "            color:  #000000;\n",
              "        }#T_13a6cd1a_27b2_11ec_ade1_0242ac1c0002row3_col12{\n",
              "            background-color:  #aec9fc;\n",
              "            color:  #000000;\n",
              "        }#T_13a6cd1a_27b2_11ec_ade1_0242ac1c0002row4_col1,#T_13a6cd1a_27b2_11ec_ade1_0242ac1c0002row4_col5{\n",
              "            background-color:  #7699f6;\n",
              "            color:  #000000;\n",
              "        }#T_13a6cd1a_27b2_11ec_ade1_0242ac1c0002row4_col6{\n",
              "            background-color:  #7295f4;\n",
              "            color:  #000000;\n",
              "        }#T_13a6cd1a_27b2_11ec_ade1_0242ac1c0002row4_col8{\n",
              "            background-color:  #a2c1ff;\n",
              "            color:  #000000;\n",
              "        }#T_13a6cd1a_27b2_11ec_ade1_0242ac1c0002row4_col9,#T_13a6cd1a_27b2_11ec_ade1_0242ac1c0002row10_col3{\n",
              "            background-color:  #3d50c3;\n",
              "            color:  #f1f1f1;\n",
              "        }#T_13a6cd1a_27b2_11ec_ade1_0242ac1c0002row4_col10,#T_13a6cd1a_27b2_11ec_ade1_0242ac1c0002row10_col1,#T_13a6cd1a_27b2_11ec_ade1_0242ac1c0002row12_col6{\n",
              "            background-color:  #4f69d9;\n",
              "            color:  #000000;\n",
              "        }#T_13a6cd1a_27b2_11ec_ade1_0242ac1c0002row4_col11{\n",
              "            background-color:  #b7cff9;\n",
              "            color:  #000000;\n",
              "        }#T_13a6cd1a_27b2_11ec_ade1_0242ac1c0002row4_col12{\n",
              "            background-color:  #7093f3;\n",
              "            color:  #000000;\n",
              "        }#T_13a6cd1a_27b2_11ec_ade1_0242ac1c0002row5_col9{\n",
              "            background-color:  #485fd1;\n",
              "            color:  #f1f1f1;\n",
              "        }#T_13a6cd1a_27b2_11ec_ade1_0242ac1c0002row5_col10,#T_13a6cd1a_27b2_11ec_ade1_0242ac1c0002row9_col1{\n",
              "            background-color:  #536edd;\n",
              "            color:  #000000;\n",
              "        }#T_13a6cd1a_27b2_11ec_ade1_0242ac1c0002row5_col11,#T_13a6cd1a_27b2_11ec_ade1_0242ac1c0002row6_col3,#T_13a6cd1a_27b2_11ec_ade1_0242ac1c0002row6_col8,#T_13a6cd1a_27b2_11ec_ade1_0242ac1c0002row8_col12,#T_13a6cd1a_27b2_11ec_ade1_0242ac1c0002row12_col1{\n",
              "            background-color:  #81a4fb;\n",
              "            color:  #000000;\n",
              "        }#T_13a6cd1a_27b2_11ec_ade1_0242ac1c0002row5_col12{\n",
              "            background-color:  #bfd3f6;\n",
              "            color:  #000000;\n",
              "        }#T_13a6cd1a_27b2_11ec_ade1_0242ac1c0002row6_col0,#T_13a6cd1a_27b2_11ec_ade1_0242ac1c0002row9_col8{\n",
              "            background-color:  #6687ed;\n",
              "            color:  #000000;\n",
              "        }#T_13a6cd1a_27b2_11ec_ade1_0242ac1c0002row6_col2{\n",
              "            background-color:  #7597f6;\n",
              "            color:  #000000;\n",
              "        }#T_13a6cd1a_27b2_11ec_ade1_0242ac1c0002row6_col4{\n",
              "            background-color:  #93b5fe;\n",
              "            color:  #000000;\n",
              "        }#T_13a6cd1a_27b2_11ec_ade1_0242ac1c0002row6_col9{\n",
              "            background-color:  #4358cb;\n",
              "            color:  #f1f1f1;\n",
              "        }#T_13a6cd1a_27b2_11ec_ade1_0242ac1c0002row6_col11{\n",
              "            background-color:  #b1cbfc;\n",
              "            color:  #000000;\n",
              "        }#T_13a6cd1a_27b2_11ec_ade1_0242ac1c0002row6_col12,#T_13a6cd1a_27b2_11ec_ade1_0242ac1c0002row7_col0{\n",
              "            background-color:  #a3c2fe;\n",
              "            color:  #000000;\n",
              "        }#T_13a6cd1a_27b2_11ec_ade1_0242ac1c0002row7_col3,#T_13a6cd1a_27b2_11ec_ade1_0242ac1c0002row9_col4{\n",
              "            background-color:  #5875e1;\n",
              "            color:  #000000;\n",
              "        }#T_13a6cd1a_27b2_11ec_ade1_0242ac1c0002row7_col5,#T_13a6cd1a_27b2_11ec_ade1_0242ac1c0002row10_col4{\n",
              "            background-color:  #6c8ff1;\n",
              "            color:  #000000;\n",
              "        }#T_13a6cd1a_27b2_11ec_ade1_0242ac1c0002row7_col6,#T_13a6cd1a_27b2_11ec_ade1_0242ac1c0002row9_col5{\n",
              "            background-color:  #516ddb;\n",
              "            color:  #000000;\n",
              "        }#T_13a6cd1a_27b2_11ec_ade1_0242ac1c0002row7_col8{\n",
              "            background-color:  #3c4ec2;\n",
              "            color:  #f1f1f1;\n",
              "        }#T_13a6cd1a_27b2_11ec_ade1_0242ac1c0002row7_col9{\n",
              "            background-color:  #6788ee;\n",
              "            color:  #000000;\n",
              "        }#T_13a6cd1a_27b2_11ec_ade1_0242ac1c0002row7_col11{\n",
              "            background-color:  #8caffe;\n",
              "            color:  #000000;\n",
              "        }#T_13a6cd1a_27b2_11ec_ade1_0242ac1c0002row7_col12{\n",
              "            background-color:  #e6d7cf;\n",
              "            color:  #000000;\n",
              "        }#T_13a6cd1a_27b2_11ec_ade1_0242ac1c0002row8_col3{\n",
              "            background-color:  #4c66d6;\n",
              "            color:  #000000;\n",
              "        }#T_13a6cd1a_27b2_11ec_ade1_0242ac1c0002row8_col4{\n",
              "            background-color:  #afcafc;\n",
              "            color:  #000000;\n",
              "        }#T_13a6cd1a_27b2_11ec_ade1_0242ac1c0002row8_col6,#T_13a6cd1a_27b2_11ec_ade1_0242ac1c0002row9_col7,#T_13a6cd1a_27b2_11ec_ade1_0242ac1c0002row10_col8,#T_13a6cd1a_27b2_11ec_ade1_0242ac1c0002row11_col3{\n",
              "            background-color:  #6f92f3;\n",
              "            color:  #000000;\n",
              "        }#T_13a6cd1a_27b2_11ec_ade1_0242ac1c0002row8_col9{\n",
              "            background-color:  #5d7ce6;\n",
              "            color:  #000000;\n",
              "        }#T_13a6cd1a_27b2_11ec_ade1_0242ac1c0002row8_col11{\n",
              "            background-color:  #c1d4f4;\n",
              "            color:  #000000;\n",
              "        }#T_13a6cd1a_27b2_11ec_ade1_0242ac1c0002row9_col2{\n",
              "            background-color:  #85a8fc;\n",
              "            color:  #000000;\n",
              "        }#T_13a6cd1a_27b2_11ec_ade1_0242ac1c0002row9_col10{\n",
              "            background-color:  #e1dad6;\n",
              "            color:  #000000;\n",
              "        }#T_13a6cd1a_27b2_11ec_ade1_0242ac1c0002row9_col11{\n",
              "            background-color:  #aac7fd;\n",
              "            color:  #000000;\n",
              "        }#T_13a6cd1a_27b2_11ec_ade1_0242ac1c0002row9_col12{\n",
              "            background-color:  #adc9fd;\n",
              "            color:  #000000;\n",
              "        }#T_13a6cd1a_27b2_11ec_ade1_0242ac1c0002row10_col2{\n",
              "            background-color:  #6e90f2;\n",
              "            color:  #000000;\n",
              "        }#T_13a6cd1a_27b2_11ec_ade1_0242ac1c0002row10_col9{\n",
              "            background-color:  #e2dad5;\n",
              "            color:  #000000;\n",
              "        }#T_13a6cd1a_27b2_11ec_ade1_0242ac1c0002row10_col11{\n",
              "            background-color:  #a9c6fd;\n",
              "            color:  #000000;\n",
              "        }#T_13a6cd1a_27b2_11ec_ade1_0242ac1c0002row11_col1{\n",
              "            background-color:  #465ecf;\n",
              "            color:  #f1f1f1;\n",
              "        }#T_13a6cd1a_27b2_11ec_ade1_0242ac1c0002row11_col4{\n",
              "            background-color:  #8badfd;\n",
              "            color:  #000000;\n",
              "        }#T_13a6cd1a_27b2_11ec_ade1_0242ac1c0002row11_col10{\n",
              "            background-color:  #5b7ae5;\n",
              "            color:  #000000;\n",
              "        }#T_13a6cd1a_27b2_11ec_ade1_0242ac1c0002row12_col7{\n",
              "            background-color:  #c3d5f4;\n",
              "            color:  #000000;\n",
              "        }</style><table id=\"T_13a6cd1a_27b2_11ec_ade1_0242ac1c0002\" ><thead>    <tr>        <th class=\"blank level0\" ></th>        <th class=\"col_heading level0 col0\" >age</th>        <th class=\"col_heading level0 col1\" >anaemia</th>        <th class=\"col_heading level0 col2\" >creatinine_phosphokinase</th>        <th class=\"col_heading level0 col3\" >diabetes</th>        <th class=\"col_heading level0 col4\" >ejection_fraction</th>        <th class=\"col_heading level0 col5\" >high_blood_pressure</th>        <th class=\"col_heading level0 col6\" >platelets</th>        <th class=\"col_heading level0 col7\" >serum_creatinine</th>        <th class=\"col_heading level0 col8\" >serum_sodium</th>        <th class=\"col_heading level0 col9\" >sex</th>        <th class=\"col_heading level0 col10\" >smoking</th>        <th class=\"col_heading level0 col11\" >time</th>        <th class=\"col_heading level0 col12\" >DEATH_EVENT</th>    </tr></thead><tbody>\n",
              "                <tr>\n",
              "                        <th id=\"T_13a6cd1a_27b2_11ec_ade1_0242ac1c0002level0_row0\" class=\"row_heading level0 row0\" >age</th>\n",
              "                        <td id=\"T_13a6cd1a_27b2_11ec_ade1_0242ac1c0002row0_col0\" class=\"data row0 col0\" >1.000000</td>\n",
              "                        <td id=\"T_13a6cd1a_27b2_11ec_ade1_0242ac1c0002row0_col1\" class=\"data row0 col1\" >0.088006</td>\n",
              "                        <td id=\"T_13a6cd1a_27b2_11ec_ade1_0242ac1c0002row0_col2\" class=\"data row0 col2\" >-0.081584</td>\n",
              "                        <td id=\"T_13a6cd1a_27b2_11ec_ade1_0242ac1c0002row0_col3\" class=\"data row0 col3\" >-0.101012</td>\n",
              "                        <td id=\"T_13a6cd1a_27b2_11ec_ade1_0242ac1c0002row0_col4\" class=\"data row0 col4\" >0.060098</td>\n",
              "                        <td id=\"T_13a6cd1a_27b2_11ec_ade1_0242ac1c0002row0_col5\" class=\"data row0 col5\" >0.093289</td>\n",
              "                        <td id=\"T_13a6cd1a_27b2_11ec_ade1_0242ac1c0002row0_col6\" class=\"data row0 col6\" >-0.052354</td>\n",
              "                        <td id=\"T_13a6cd1a_27b2_11ec_ade1_0242ac1c0002row0_col7\" class=\"data row0 col7\" >0.159187</td>\n",
              "                        <td id=\"T_13a6cd1a_27b2_11ec_ade1_0242ac1c0002row0_col8\" class=\"data row0 col8\" >-0.045966</td>\n",
              "                        <td id=\"T_13a6cd1a_27b2_11ec_ade1_0242ac1c0002row0_col9\" class=\"data row0 col9\" >0.065430</td>\n",
              "                        <td id=\"T_13a6cd1a_27b2_11ec_ade1_0242ac1c0002row0_col10\" class=\"data row0 col10\" >0.018668</td>\n",
              "                        <td id=\"T_13a6cd1a_27b2_11ec_ade1_0242ac1c0002row0_col11\" class=\"data row0 col11\" >-0.224068</td>\n",
              "                        <td id=\"T_13a6cd1a_27b2_11ec_ade1_0242ac1c0002row0_col12\" class=\"data row0 col12\" >0.253729</td>\n",
              "            </tr>\n",
              "            <tr>\n",
              "                        <th id=\"T_13a6cd1a_27b2_11ec_ade1_0242ac1c0002level0_row1\" class=\"row_heading level0 row1\" >anaemia</th>\n",
              "                        <td id=\"T_13a6cd1a_27b2_11ec_ade1_0242ac1c0002row1_col0\" class=\"data row1 col0\" >0.088006</td>\n",
              "                        <td id=\"T_13a6cd1a_27b2_11ec_ade1_0242ac1c0002row1_col1\" class=\"data row1 col1\" >1.000000</td>\n",
              "                        <td id=\"T_13a6cd1a_27b2_11ec_ade1_0242ac1c0002row1_col2\" class=\"data row1 col2\" >-0.190741</td>\n",
              "                        <td id=\"T_13a6cd1a_27b2_11ec_ade1_0242ac1c0002row1_col3\" class=\"data row1 col3\" >-0.012729</td>\n",
              "                        <td id=\"T_13a6cd1a_27b2_11ec_ade1_0242ac1c0002row1_col4\" class=\"data row1 col4\" >0.031557</td>\n",
              "                        <td id=\"T_13a6cd1a_27b2_11ec_ade1_0242ac1c0002row1_col5\" class=\"data row1 col5\" >0.038182</td>\n",
              "                        <td id=\"T_13a6cd1a_27b2_11ec_ade1_0242ac1c0002row1_col6\" class=\"data row1 col6\" >-0.043786</td>\n",
              "                        <td id=\"T_13a6cd1a_27b2_11ec_ade1_0242ac1c0002row1_col7\" class=\"data row1 col7\" >0.052174</td>\n",
              "                        <td id=\"T_13a6cd1a_27b2_11ec_ade1_0242ac1c0002row1_col8\" class=\"data row1 col8\" >0.041882</td>\n",
              "                        <td id=\"T_13a6cd1a_27b2_11ec_ade1_0242ac1c0002row1_col9\" class=\"data row1 col9\" >-0.094769</td>\n",
              "                        <td id=\"T_13a6cd1a_27b2_11ec_ade1_0242ac1c0002row1_col10\" class=\"data row1 col10\" >-0.107290</td>\n",
              "                        <td id=\"T_13a6cd1a_27b2_11ec_ade1_0242ac1c0002row1_col11\" class=\"data row1 col11\" >-0.141414</td>\n",
              "                        <td id=\"T_13a6cd1a_27b2_11ec_ade1_0242ac1c0002row1_col12\" class=\"data row1 col12\" >0.066270</td>\n",
              "            </tr>\n",
              "            <tr>\n",
              "                        <th id=\"T_13a6cd1a_27b2_11ec_ade1_0242ac1c0002level0_row2\" class=\"row_heading level0 row2\" >creatinine_phosphokinase</th>\n",
              "                        <td id=\"T_13a6cd1a_27b2_11ec_ade1_0242ac1c0002row2_col0\" class=\"data row2 col0\" >-0.081584</td>\n",
              "                        <td id=\"T_13a6cd1a_27b2_11ec_ade1_0242ac1c0002row2_col1\" class=\"data row2 col1\" >-0.190741</td>\n",
              "                        <td id=\"T_13a6cd1a_27b2_11ec_ade1_0242ac1c0002row2_col2\" class=\"data row2 col2\" >1.000000</td>\n",
              "                        <td id=\"T_13a6cd1a_27b2_11ec_ade1_0242ac1c0002row2_col3\" class=\"data row2 col3\" >-0.009639</td>\n",
              "                        <td id=\"T_13a6cd1a_27b2_11ec_ade1_0242ac1c0002row2_col4\" class=\"data row2 col4\" >-0.044080</td>\n",
              "                        <td id=\"T_13a6cd1a_27b2_11ec_ade1_0242ac1c0002row2_col5\" class=\"data row2 col5\" >-0.070590</td>\n",
              "                        <td id=\"T_13a6cd1a_27b2_11ec_ade1_0242ac1c0002row2_col6\" class=\"data row2 col6\" >0.024463</td>\n",
              "                        <td id=\"T_13a6cd1a_27b2_11ec_ade1_0242ac1c0002row2_col7\" class=\"data row2 col7\" >-0.016408</td>\n",
              "                        <td id=\"T_13a6cd1a_27b2_11ec_ade1_0242ac1c0002row2_col8\" class=\"data row2 col8\" >0.059550</td>\n",
              "                        <td id=\"T_13a6cd1a_27b2_11ec_ade1_0242ac1c0002row2_col9\" class=\"data row2 col9\" >0.079791</td>\n",
              "                        <td id=\"T_13a6cd1a_27b2_11ec_ade1_0242ac1c0002row2_col10\" class=\"data row2 col10\" >0.002421</td>\n",
              "                        <td id=\"T_13a6cd1a_27b2_11ec_ade1_0242ac1c0002row2_col11\" class=\"data row2 col11\" >-0.009346</td>\n",
              "                        <td id=\"T_13a6cd1a_27b2_11ec_ade1_0242ac1c0002row2_col12\" class=\"data row2 col12\" >0.062728</td>\n",
              "            </tr>\n",
              "            <tr>\n",
              "                        <th id=\"T_13a6cd1a_27b2_11ec_ade1_0242ac1c0002level0_row3\" class=\"row_heading level0 row3\" >diabetes</th>\n",
              "                        <td id=\"T_13a6cd1a_27b2_11ec_ade1_0242ac1c0002row3_col0\" class=\"data row3 col0\" >-0.101012</td>\n",
              "                        <td id=\"T_13a6cd1a_27b2_11ec_ade1_0242ac1c0002row3_col1\" class=\"data row3 col1\" >-0.012729</td>\n",
              "                        <td id=\"T_13a6cd1a_27b2_11ec_ade1_0242ac1c0002row3_col2\" class=\"data row3 col2\" >-0.009639</td>\n",
              "                        <td id=\"T_13a6cd1a_27b2_11ec_ade1_0242ac1c0002row3_col3\" class=\"data row3 col3\" >1.000000</td>\n",
              "                        <td id=\"T_13a6cd1a_27b2_11ec_ade1_0242ac1c0002row3_col4\" class=\"data row3 col4\" >-0.004850</td>\n",
              "                        <td id=\"T_13a6cd1a_27b2_11ec_ade1_0242ac1c0002row3_col5\" class=\"data row3 col5\" >-0.012732</td>\n",
              "                        <td id=\"T_13a6cd1a_27b2_11ec_ade1_0242ac1c0002row3_col6\" class=\"data row3 col6\" >0.092193</td>\n",
              "                        <td id=\"T_13a6cd1a_27b2_11ec_ade1_0242ac1c0002row3_col7\" class=\"data row3 col7\" >-0.046975</td>\n",
              "                        <td id=\"T_13a6cd1a_27b2_11ec_ade1_0242ac1c0002row3_col8\" class=\"data row3 col8\" >-0.089551</td>\n",
              "                        <td id=\"T_13a6cd1a_27b2_11ec_ade1_0242ac1c0002row3_col9\" class=\"data row3 col9\" >-0.157730</td>\n",
              "                        <td id=\"T_13a6cd1a_27b2_11ec_ade1_0242ac1c0002row3_col10\" class=\"data row3 col10\" >-0.147173</td>\n",
              "                        <td id=\"T_13a6cd1a_27b2_11ec_ade1_0242ac1c0002row3_col11\" class=\"data row3 col11\" >0.033726</td>\n",
              "                        <td id=\"T_13a6cd1a_27b2_11ec_ade1_0242ac1c0002row3_col12\" class=\"data row3 col12\" >-0.001943</td>\n",
              "            </tr>\n",
              "            <tr>\n",
              "                        <th id=\"T_13a6cd1a_27b2_11ec_ade1_0242ac1c0002level0_row4\" class=\"row_heading level0 row4\" >ejection_fraction</th>\n",
              "                        <td id=\"T_13a6cd1a_27b2_11ec_ade1_0242ac1c0002row4_col0\" class=\"data row4 col0\" >0.060098</td>\n",
              "                        <td id=\"T_13a6cd1a_27b2_11ec_ade1_0242ac1c0002row4_col1\" class=\"data row4 col1\" >0.031557</td>\n",
              "                        <td id=\"T_13a6cd1a_27b2_11ec_ade1_0242ac1c0002row4_col2\" class=\"data row4 col2\" >-0.044080</td>\n",
              "                        <td id=\"T_13a6cd1a_27b2_11ec_ade1_0242ac1c0002row4_col3\" class=\"data row4 col3\" >-0.004850</td>\n",
              "                        <td id=\"T_13a6cd1a_27b2_11ec_ade1_0242ac1c0002row4_col4\" class=\"data row4 col4\" >1.000000</td>\n",
              "                        <td id=\"T_13a6cd1a_27b2_11ec_ade1_0242ac1c0002row4_col5\" class=\"data row4 col5\" >0.024445</td>\n",
              "                        <td id=\"T_13a6cd1a_27b2_11ec_ade1_0242ac1c0002row4_col6\" class=\"data row4 col6\" >0.072177</td>\n",
              "                        <td id=\"T_13a6cd1a_27b2_11ec_ade1_0242ac1c0002row4_col7\" class=\"data row4 col7\" >-0.011302</td>\n",
              "                        <td id=\"T_13a6cd1a_27b2_11ec_ade1_0242ac1c0002row4_col8\" class=\"data row4 col8\" >0.175902</td>\n",
              "                        <td id=\"T_13a6cd1a_27b2_11ec_ade1_0242ac1c0002row4_col9\" class=\"data row4 col9\" >-0.148386</td>\n",
              "                        <td id=\"T_13a6cd1a_27b2_11ec_ade1_0242ac1c0002row4_col10\" class=\"data row4 col10\" >-0.067315</td>\n",
              "                        <td id=\"T_13a6cd1a_27b2_11ec_ade1_0242ac1c0002row4_col11\" class=\"data row4 col11\" >0.041729</td>\n",
              "                        <td id=\"T_13a6cd1a_27b2_11ec_ade1_0242ac1c0002row4_col12\" class=\"data row4 col12\" >-0.268603</td>\n",
              "            </tr>\n",
              "            <tr>\n",
              "                        <th id=\"T_13a6cd1a_27b2_11ec_ade1_0242ac1c0002level0_row5\" class=\"row_heading level0 row5\" >high_blood_pressure</th>\n",
              "                        <td id=\"T_13a6cd1a_27b2_11ec_ade1_0242ac1c0002row5_col0\" class=\"data row5 col0\" >0.093289</td>\n",
              "                        <td id=\"T_13a6cd1a_27b2_11ec_ade1_0242ac1c0002row5_col1\" class=\"data row5 col1\" >0.038182</td>\n",
              "                        <td id=\"T_13a6cd1a_27b2_11ec_ade1_0242ac1c0002row5_col2\" class=\"data row5 col2\" >-0.070590</td>\n",
              "                        <td id=\"T_13a6cd1a_27b2_11ec_ade1_0242ac1c0002row5_col3\" class=\"data row5 col3\" >-0.012732</td>\n",
              "                        <td id=\"T_13a6cd1a_27b2_11ec_ade1_0242ac1c0002row5_col4\" class=\"data row5 col4\" >0.024445</td>\n",
              "                        <td id=\"T_13a6cd1a_27b2_11ec_ade1_0242ac1c0002row5_col5\" class=\"data row5 col5\" >1.000000</td>\n",
              "                        <td id=\"T_13a6cd1a_27b2_11ec_ade1_0242ac1c0002row5_col6\" class=\"data row5 col6\" >0.049963</td>\n",
              "                        <td id=\"T_13a6cd1a_27b2_11ec_ade1_0242ac1c0002row5_col7\" class=\"data row5 col7\" >-0.004935</td>\n",
              "                        <td id=\"T_13a6cd1a_27b2_11ec_ade1_0242ac1c0002row5_col8\" class=\"data row5 col8\" >0.037109</td>\n",
              "                        <td id=\"T_13a6cd1a_27b2_11ec_ade1_0242ac1c0002row5_col9\" class=\"data row5 col9\" >-0.104615</td>\n",
              "                        <td id=\"T_13a6cd1a_27b2_11ec_ade1_0242ac1c0002row5_col10\" class=\"data row5 col10\" >-0.055711</td>\n",
              "                        <td id=\"T_13a6cd1a_27b2_11ec_ade1_0242ac1c0002row5_col11\" class=\"data row5 col11\" >-0.196439</td>\n",
              "                        <td id=\"T_13a6cd1a_27b2_11ec_ade1_0242ac1c0002row5_col12\" class=\"data row5 col12\" >0.079351</td>\n",
              "            </tr>\n",
              "            <tr>\n",
              "                        <th id=\"T_13a6cd1a_27b2_11ec_ade1_0242ac1c0002level0_row6\" class=\"row_heading level0 row6\" >platelets</th>\n",
              "                        <td id=\"T_13a6cd1a_27b2_11ec_ade1_0242ac1c0002row6_col0\" class=\"data row6 col0\" >-0.052354</td>\n",
              "                        <td id=\"T_13a6cd1a_27b2_11ec_ade1_0242ac1c0002row6_col1\" class=\"data row6 col1\" >-0.043786</td>\n",
              "                        <td id=\"T_13a6cd1a_27b2_11ec_ade1_0242ac1c0002row6_col2\" class=\"data row6 col2\" >0.024463</td>\n",
              "                        <td id=\"T_13a6cd1a_27b2_11ec_ade1_0242ac1c0002row6_col3\" class=\"data row6 col3\" >0.092193</td>\n",
              "                        <td id=\"T_13a6cd1a_27b2_11ec_ade1_0242ac1c0002row6_col4\" class=\"data row6 col4\" >0.072177</td>\n",
              "                        <td id=\"T_13a6cd1a_27b2_11ec_ade1_0242ac1c0002row6_col5\" class=\"data row6 col5\" >0.049963</td>\n",
              "                        <td id=\"T_13a6cd1a_27b2_11ec_ade1_0242ac1c0002row6_col6\" class=\"data row6 col6\" >1.000000</td>\n",
              "                        <td id=\"T_13a6cd1a_27b2_11ec_ade1_0242ac1c0002row6_col7\" class=\"data row6 col7\" >-0.041198</td>\n",
              "                        <td id=\"T_13a6cd1a_27b2_11ec_ade1_0242ac1c0002row6_col8\" class=\"data row6 col8\" >0.062125</td>\n",
              "                        <td id=\"T_13a6cd1a_27b2_11ec_ade1_0242ac1c0002row6_col9\" class=\"data row6 col9\" >-0.125120</td>\n",
              "                        <td id=\"T_13a6cd1a_27b2_11ec_ade1_0242ac1c0002row6_col10\" class=\"data row6 col10\" >0.028234</td>\n",
              "                        <td id=\"T_13a6cd1a_27b2_11ec_ade1_0242ac1c0002row6_col11\" class=\"data row6 col11\" >0.010514</td>\n",
              "                        <td id=\"T_13a6cd1a_27b2_11ec_ade1_0242ac1c0002row6_col12\" class=\"data row6 col12\" >-0.049139</td>\n",
              "            </tr>\n",
              "            <tr>\n",
              "                        <th id=\"T_13a6cd1a_27b2_11ec_ade1_0242ac1c0002level0_row7\" class=\"row_heading level0 row7\" >serum_creatinine</th>\n",
              "                        <td id=\"T_13a6cd1a_27b2_11ec_ade1_0242ac1c0002row7_col0\" class=\"data row7 col0\" >0.159187</td>\n",
              "                        <td id=\"T_13a6cd1a_27b2_11ec_ade1_0242ac1c0002row7_col1\" class=\"data row7 col1\" >0.052174</td>\n",
              "                        <td id=\"T_13a6cd1a_27b2_11ec_ade1_0242ac1c0002row7_col2\" class=\"data row7 col2\" >-0.016408</td>\n",
              "                        <td id=\"T_13a6cd1a_27b2_11ec_ade1_0242ac1c0002row7_col3\" class=\"data row7 col3\" >-0.046975</td>\n",
              "                        <td id=\"T_13a6cd1a_27b2_11ec_ade1_0242ac1c0002row7_col4\" class=\"data row7 col4\" >-0.011302</td>\n",
              "                        <td id=\"T_13a6cd1a_27b2_11ec_ade1_0242ac1c0002row7_col5\" class=\"data row7 col5\" >-0.004935</td>\n",
              "                        <td id=\"T_13a6cd1a_27b2_11ec_ade1_0242ac1c0002row7_col6\" class=\"data row7 col6\" >-0.041198</td>\n",
              "                        <td id=\"T_13a6cd1a_27b2_11ec_ade1_0242ac1c0002row7_col7\" class=\"data row7 col7\" >1.000000</td>\n",
              "                        <td id=\"T_13a6cd1a_27b2_11ec_ade1_0242ac1c0002row7_col8\" class=\"data row7 col8\" >-0.189095</td>\n",
              "                        <td id=\"T_13a6cd1a_27b2_11ec_ade1_0242ac1c0002row7_col9\" class=\"data row7 col9\" >0.006970</td>\n",
              "                        <td id=\"T_13a6cd1a_27b2_11ec_ade1_0242ac1c0002row7_col10\" class=\"data row7 col10\" >-0.027414</td>\n",
              "                        <td id=\"T_13a6cd1a_27b2_11ec_ade1_0242ac1c0002row7_col11\" class=\"data row7 col11\" >-0.149315</td>\n",
              "                        <td id=\"T_13a6cd1a_27b2_11ec_ade1_0242ac1c0002row7_col12\" class=\"data row7 col12\" >0.294278</td>\n",
              "            </tr>\n",
              "            <tr>\n",
              "                        <th id=\"T_13a6cd1a_27b2_11ec_ade1_0242ac1c0002level0_row8\" class=\"row_heading level0 row8\" >serum_sodium</th>\n",
              "                        <td id=\"T_13a6cd1a_27b2_11ec_ade1_0242ac1c0002row8_col0\" class=\"data row8 col0\" >-0.045966</td>\n",
              "                        <td id=\"T_13a6cd1a_27b2_11ec_ade1_0242ac1c0002row8_col1\" class=\"data row8 col1\" >0.041882</td>\n",
              "                        <td id=\"T_13a6cd1a_27b2_11ec_ade1_0242ac1c0002row8_col2\" class=\"data row8 col2\" >0.059550</td>\n",
              "                        <td id=\"T_13a6cd1a_27b2_11ec_ade1_0242ac1c0002row8_col3\" class=\"data row8 col3\" >-0.089551</td>\n",
              "                        <td id=\"T_13a6cd1a_27b2_11ec_ade1_0242ac1c0002row8_col4\" class=\"data row8 col4\" >0.175902</td>\n",
              "                        <td id=\"T_13a6cd1a_27b2_11ec_ade1_0242ac1c0002row8_col5\" class=\"data row8 col5\" >0.037109</td>\n",
              "                        <td id=\"T_13a6cd1a_27b2_11ec_ade1_0242ac1c0002row8_col6\" class=\"data row8 col6\" >0.062125</td>\n",
              "                        <td id=\"T_13a6cd1a_27b2_11ec_ade1_0242ac1c0002row8_col7\" class=\"data row8 col7\" >-0.189095</td>\n",
              "                        <td id=\"T_13a6cd1a_27b2_11ec_ade1_0242ac1c0002row8_col8\" class=\"data row8 col8\" >1.000000</td>\n",
              "                        <td id=\"T_13a6cd1a_27b2_11ec_ade1_0242ac1c0002row8_col9\" class=\"data row8 col9\" >-0.027566</td>\n",
              "                        <td id=\"T_13a6cd1a_27b2_11ec_ade1_0242ac1c0002row8_col10\" class=\"data row8 col10\" >0.004813</td>\n",
              "                        <td id=\"T_13a6cd1a_27b2_11ec_ade1_0242ac1c0002row8_col11\" class=\"data row8 col11\" >0.087640</td>\n",
              "                        <td id=\"T_13a6cd1a_27b2_11ec_ade1_0242ac1c0002row8_col12\" class=\"data row8 col12\" >-0.195204</td>\n",
              "            </tr>\n",
              "            <tr>\n",
              "                        <th id=\"T_13a6cd1a_27b2_11ec_ade1_0242ac1c0002level0_row9\" class=\"row_heading level0 row9\" >sex</th>\n",
              "                        <td id=\"T_13a6cd1a_27b2_11ec_ade1_0242ac1c0002row9_col0\" class=\"data row9 col0\" >0.065430</td>\n",
              "                        <td id=\"T_13a6cd1a_27b2_11ec_ade1_0242ac1c0002row9_col1\" class=\"data row9 col1\" >-0.094769</td>\n",
              "                        <td id=\"T_13a6cd1a_27b2_11ec_ade1_0242ac1c0002row9_col2\" class=\"data row9 col2\" >0.079791</td>\n",
              "                        <td id=\"T_13a6cd1a_27b2_11ec_ade1_0242ac1c0002row9_col3\" class=\"data row9 col3\" >-0.157730</td>\n",
              "                        <td id=\"T_13a6cd1a_27b2_11ec_ade1_0242ac1c0002row9_col4\" class=\"data row9 col4\" >-0.148386</td>\n",
              "                        <td id=\"T_13a6cd1a_27b2_11ec_ade1_0242ac1c0002row9_col5\" class=\"data row9 col5\" >-0.104615</td>\n",
              "                        <td id=\"T_13a6cd1a_27b2_11ec_ade1_0242ac1c0002row9_col6\" class=\"data row9 col6\" >-0.125120</td>\n",
              "                        <td id=\"T_13a6cd1a_27b2_11ec_ade1_0242ac1c0002row9_col7\" class=\"data row9 col7\" >0.006970</td>\n",
              "                        <td id=\"T_13a6cd1a_27b2_11ec_ade1_0242ac1c0002row9_col8\" class=\"data row9 col8\" >-0.027566</td>\n",
              "                        <td id=\"T_13a6cd1a_27b2_11ec_ade1_0242ac1c0002row9_col9\" class=\"data row9 col9\" >1.000000</td>\n",
              "                        <td id=\"T_13a6cd1a_27b2_11ec_ade1_0242ac1c0002row9_col10\" class=\"data row9 col10\" >0.445892</td>\n",
              "                        <td id=\"T_13a6cd1a_27b2_11ec_ade1_0242ac1c0002row9_col11\" class=\"data row9 col11\" >-0.015608</td>\n",
              "                        <td id=\"T_13a6cd1a_27b2_11ec_ade1_0242ac1c0002row9_col12\" class=\"data row9 col12\" >-0.004316</td>\n",
              "            </tr>\n",
              "            <tr>\n",
              "                        <th id=\"T_13a6cd1a_27b2_11ec_ade1_0242ac1c0002level0_row10\" class=\"row_heading level0 row10\" >smoking</th>\n",
              "                        <td id=\"T_13a6cd1a_27b2_11ec_ade1_0242ac1c0002row10_col0\" class=\"data row10 col0\" >0.018668</td>\n",
              "                        <td id=\"T_13a6cd1a_27b2_11ec_ade1_0242ac1c0002row10_col1\" class=\"data row10 col1\" >-0.107290</td>\n",
              "                        <td id=\"T_13a6cd1a_27b2_11ec_ade1_0242ac1c0002row10_col2\" class=\"data row10 col2\" >0.002421</td>\n",
              "                        <td id=\"T_13a6cd1a_27b2_11ec_ade1_0242ac1c0002row10_col3\" class=\"data row10 col3\" >-0.147173</td>\n",
              "                        <td id=\"T_13a6cd1a_27b2_11ec_ade1_0242ac1c0002row10_col4\" class=\"data row10 col4\" >-0.067315</td>\n",
              "                        <td id=\"T_13a6cd1a_27b2_11ec_ade1_0242ac1c0002row10_col5\" class=\"data row10 col5\" >-0.055711</td>\n",
              "                        <td id=\"T_13a6cd1a_27b2_11ec_ade1_0242ac1c0002row10_col6\" class=\"data row10 col6\" >0.028234</td>\n",
              "                        <td id=\"T_13a6cd1a_27b2_11ec_ade1_0242ac1c0002row10_col7\" class=\"data row10 col7\" >-0.027414</td>\n",
              "                        <td id=\"T_13a6cd1a_27b2_11ec_ade1_0242ac1c0002row10_col8\" class=\"data row10 col8\" >0.004813</td>\n",
              "                        <td id=\"T_13a6cd1a_27b2_11ec_ade1_0242ac1c0002row10_col9\" class=\"data row10 col9\" >0.445892</td>\n",
              "                        <td id=\"T_13a6cd1a_27b2_11ec_ade1_0242ac1c0002row10_col10\" class=\"data row10 col10\" >1.000000</td>\n",
              "                        <td id=\"T_13a6cd1a_27b2_11ec_ade1_0242ac1c0002row10_col11\" class=\"data row10 col11\" >-0.022839</td>\n",
              "                        <td id=\"T_13a6cd1a_27b2_11ec_ade1_0242ac1c0002row10_col12\" class=\"data row10 col12\" >-0.012623</td>\n",
              "            </tr>\n",
              "            <tr>\n",
              "                        <th id=\"T_13a6cd1a_27b2_11ec_ade1_0242ac1c0002level0_row11\" class=\"row_heading level0 row11\" >time</th>\n",
              "                        <td id=\"T_13a6cd1a_27b2_11ec_ade1_0242ac1c0002row11_col0\" class=\"data row11 col0\" >-0.224068</td>\n",
              "                        <td id=\"T_13a6cd1a_27b2_11ec_ade1_0242ac1c0002row11_col1\" class=\"data row11 col1\" >-0.141414</td>\n",
              "                        <td id=\"T_13a6cd1a_27b2_11ec_ade1_0242ac1c0002row11_col2\" class=\"data row11 col2\" >-0.009346</td>\n",
              "                        <td id=\"T_13a6cd1a_27b2_11ec_ade1_0242ac1c0002row11_col3\" class=\"data row11 col3\" >0.033726</td>\n",
              "                        <td id=\"T_13a6cd1a_27b2_11ec_ade1_0242ac1c0002row11_col4\" class=\"data row11 col4\" >0.041729</td>\n",
              "                        <td id=\"T_13a6cd1a_27b2_11ec_ade1_0242ac1c0002row11_col5\" class=\"data row11 col5\" >-0.196439</td>\n",
              "                        <td id=\"T_13a6cd1a_27b2_11ec_ade1_0242ac1c0002row11_col6\" class=\"data row11 col6\" >0.010514</td>\n",
              "                        <td id=\"T_13a6cd1a_27b2_11ec_ade1_0242ac1c0002row11_col7\" class=\"data row11 col7\" >-0.149315</td>\n",
              "                        <td id=\"T_13a6cd1a_27b2_11ec_ade1_0242ac1c0002row11_col8\" class=\"data row11 col8\" >0.087640</td>\n",
              "                        <td id=\"T_13a6cd1a_27b2_11ec_ade1_0242ac1c0002row11_col9\" class=\"data row11 col9\" >-0.015608</td>\n",
              "                        <td id=\"T_13a6cd1a_27b2_11ec_ade1_0242ac1c0002row11_col10\" class=\"data row11 col10\" >-0.022839</td>\n",
              "                        <td id=\"T_13a6cd1a_27b2_11ec_ade1_0242ac1c0002row11_col11\" class=\"data row11 col11\" >1.000000</td>\n",
              "                        <td id=\"T_13a6cd1a_27b2_11ec_ade1_0242ac1c0002row11_col12\" class=\"data row11 col12\" >-0.526964</td>\n",
              "            </tr>\n",
              "            <tr>\n",
              "                        <th id=\"T_13a6cd1a_27b2_11ec_ade1_0242ac1c0002level0_row12\" class=\"row_heading level0 row12\" >DEATH_EVENT</th>\n",
              "                        <td id=\"T_13a6cd1a_27b2_11ec_ade1_0242ac1c0002row12_col0\" class=\"data row12 col0\" >0.253729</td>\n",
              "                        <td id=\"T_13a6cd1a_27b2_11ec_ade1_0242ac1c0002row12_col1\" class=\"data row12 col1\" >0.066270</td>\n",
              "                        <td id=\"T_13a6cd1a_27b2_11ec_ade1_0242ac1c0002row12_col2\" class=\"data row12 col2\" >0.062728</td>\n",
              "                        <td id=\"T_13a6cd1a_27b2_11ec_ade1_0242ac1c0002row12_col3\" class=\"data row12 col3\" >-0.001943</td>\n",
              "                        <td id=\"T_13a6cd1a_27b2_11ec_ade1_0242ac1c0002row12_col4\" class=\"data row12 col4\" >-0.268603</td>\n",
              "                        <td id=\"T_13a6cd1a_27b2_11ec_ade1_0242ac1c0002row12_col5\" class=\"data row12 col5\" >0.079351</td>\n",
              "                        <td id=\"T_13a6cd1a_27b2_11ec_ade1_0242ac1c0002row12_col6\" class=\"data row12 col6\" >-0.049139</td>\n",
              "                        <td id=\"T_13a6cd1a_27b2_11ec_ade1_0242ac1c0002row12_col7\" class=\"data row12 col7\" >0.294278</td>\n",
              "                        <td id=\"T_13a6cd1a_27b2_11ec_ade1_0242ac1c0002row12_col8\" class=\"data row12 col8\" >-0.195204</td>\n",
              "                        <td id=\"T_13a6cd1a_27b2_11ec_ade1_0242ac1c0002row12_col9\" class=\"data row12 col9\" >-0.004316</td>\n",
              "                        <td id=\"T_13a6cd1a_27b2_11ec_ade1_0242ac1c0002row12_col10\" class=\"data row12 col10\" >-0.012623</td>\n",
              "                        <td id=\"T_13a6cd1a_27b2_11ec_ade1_0242ac1c0002row12_col11\" class=\"data row12 col11\" >-0.526964</td>\n",
              "                        <td id=\"T_13a6cd1a_27b2_11ec_ade1_0242ac1c0002row12_col12\" class=\"data row12 col12\" >1.000000</td>\n",
              "            </tr>\n",
              "    </tbody></table>"
            ],
            "text/plain": [
              "<pandas.io.formats.style.Styler at 0x7f45bd02d510>"
            ]
          },
          "metadata": {},
          "execution_count": 71
        }
      ]
    },
    {
      "cell_type": "markdown",
      "metadata": {
        "id": "d0FnGPsZIvoH"
      },
      "source": [
        "#Data Training"
      ]
    },
    {
      "cell_type": "code",
      "metadata": {
        "colab": {
          "base_uri": "https://localhost:8080/"
        },
        "id": "7NmoWf5lIr3d",
        "outputId": "f271fc50-57ce-476e-96d5-7244d4181608"
      },
      "source": [
        "X = data.drop(\"DEATH_EVENT\", axis=1)\n",
        "y = data[\"DEATH_EVENT\"]\n",
        "\n",
        "X_train, X_test, y_train, y_test = train_test_split(X, y, test_size=0.3, random_state=0)\n",
        "print(\"Shape of X_train: \", X_train.shape)\n",
        "print(\"Shape of X_test: \", X_test.shape)\n",
        "print(\"Shape of y_train: \", y_train.shape)\n",
        "print(\"Shape of y_test: \", y_test.shape)"
      ],
      "execution_count": 72,
      "outputs": [
        {
          "output_type": "stream",
          "name": "stdout",
          "text": [
            "Shape of X_train:  (209, 12)\n",
            "Shape of X_test:  (90, 12)\n",
            "Shape of y_train:  (209,)\n",
            "Shape of y_test:  (90,)\n"
          ]
        }
      ]
    },
    {
      "cell_type": "markdown",
      "metadata": {
        "id": "-GBQMO0KOUzc"
      },
      "source": [
        "#Feature Engineering"
      ]
    },
    {
      "cell_type": "code",
      "metadata": {
        "id": "y35x9lSeOZXx"
      },
      "source": [
        "def add_interaction(X):\n",
        "    feature = X.columns\n",
        "    m = len(feature)\n",
        "    X_int = X.copy(deep=True)\n",
        "\n",
        "    for i in range(m):\n",
        "        feature_i_name = feature[i]\n",
        "        feature_i_data = X[feature_i_name]\n",
        "\n",
        "        for j in range(i + 1, m):\n",
        "           feature_j_name = feature[j]\n",
        "           feature_j_data = X[feature_j_name]\n",
        "           feature_i_j_name = feature_i_name+\" x \"+feature_j_name\n",
        "           X_int[feature_i_j_name] = feature_i_data * feature_j_data\n",
        "    \n",
        "    return X_int\n",
        "\n",
        "X_train_mod = add_interaction(X_train)\n",
        "X_test_mod = add_interaction(X_test)"
      ],
      "execution_count": 73,
      "outputs": []
    },
    {
      "cell_type": "markdown",
      "metadata": {
        "id": "d7xnJEqW9xvp"
      },
      "source": [
        "#Model Building"
      ]
    },
    {
      "cell_type": "code",
      "metadata": {
        "id": "GQg62RZS91oQ"
      },
      "source": [
        "from sklearn.metrics import confusion_matrix, accuracy_score, precision_score, recall_score\n",
        "\n",
        "def evaluating_model(y_test, y_pred):\n",
        "    '''\n",
        "    Function for evaluating the model\n",
        "    '''\n",
        "    print(\"Accuracy Score: \", accuracy_score(y_test, y_pred))\n",
        "    print(\"Confusin Matrix: \", confusion_matrix(y_test, y_pred))\n",
        "    print(\"Precision Score: \", precision_score(y_test, y_pred))\n",
        "    print(\"Recall Score: \", recall_score(y_test, y_pred))"
      ],
      "execution_count": 74,
      "outputs": []
    },
    {
      "cell_type": "code",
      "metadata": {
        "id": "su0jOK5LhgCt"
      },
      "source": [
        "#building logistic regression model as the baseline model\n",
        "\n",
        "from sklearn.linear_model import LogisticRegression\n",
        "\n",
        "lr = LogisticRegression(max_iter=1000)\n",
        "lr.fit(X_train, y_train)\n",
        "\n",
        "lr_predict = lr.predict(X_test)"
      ],
      "execution_count": 75,
      "outputs": []
    },
    {
      "cell_type": "code",
      "metadata": {
        "colab": {
          "base_uri": "https://localhost:8080/"
        },
        "id": "Bkf91rU8ijJD",
        "outputId": "aaedcfdd-6ba9-4575-f138-89293a283e2c"
      },
      "source": [
        "y_pred = lr.predict(X_test)\n",
        "evaluating_model(y_test, y_pred)"
      ],
      "execution_count": 76,
      "outputs": [
        {
          "output_type": "stream",
          "name": "stdout",
          "text": [
            "Accuracy Score:  0.7888888888888889\n",
            "Confusin Matrix:  [[58  4]\n",
            " [15 13]]\n",
            "Precision Score:  0.7647058823529411\n",
            "Recall Score:  0.4642857142857143\n"
          ]
        }
      ]
    },
    {
      "cell_type": "code",
      "metadata": {
        "colab": {
          "base_uri": "https://localhost:8080/"
        },
        "id": "eMWmvyiuiyzf",
        "outputId": "05a5cbd1-e2f5-4e52-d596-77e470fc249d"
      },
      "source": [
        "# building Standard Scaler with Logistic Regression\n",
        "from sklearn.pipeline import make_pipeline\n",
        "from sklearn.preprocessing import StandardScaler\n",
        "\n",
        "lr_pip = make_pipeline(StandardScaler(), LogisticRegression())\n",
        "lr_pip.fit(X_train, y_train)\n",
        "\n",
        "lr_pip_pred = lr_pip.predict(X_test)\n",
        "evaluating_model(y_test, lr_pip_pred)"
      ],
      "execution_count": 77,
      "outputs": [
        {
          "output_type": "stream",
          "name": "stdout",
          "text": [
            "Accuracy Score:  0.8111111111111111\n",
            "Confusin Matrix:  [[58  4]\n",
            " [13 15]]\n",
            "Precision Score:  0.7894736842105263\n",
            "Recall Score:  0.5357142857142857\n"
          ]
        }
      ]
    },
    {
      "cell_type": "code",
      "metadata": {
        "colab": {
          "base_uri": "https://localhost:8080/"
        },
        "id": "4esz6cU0mkec",
        "outputId": "80b3a87e-35a8-43a7-d8bf-b16be53f8193"
      },
      "source": [
        "#Using Support Vector Machine\n",
        "from sklearn.svm import SVC\n",
        "from sklearn.model_selection import GridSearchCV\n",
        "\n",
        "param_grid = {'C': [0.1, 1, 10, 100, 1000],\n",
        "              'gamma': [1, 0.1, 0.01, 0.001, 0.0001],\n",
        "              'kernel':['rbf']}\n",
        "grid = GridSearchCV(SVC(), param_grid, refit=True, verbose=3)\n",
        "grid.fit(X_train, y_train)"
      ],
      "execution_count": 78,
      "outputs": [
        {
          "output_type": "stream",
          "name": "stdout",
          "text": [
            "Fitting 5 folds for each of 25 candidates, totalling 125 fits\n",
            "[CV] C=0.1, gamma=1, kernel=rbf ......................................\n",
            "[CV] .......... C=0.1, gamma=1, kernel=rbf, score=0.690, total=   0.0s\n",
            "[CV] C=0.1, gamma=1, kernel=rbf ......................................\n",
            "[CV] .......... C=0.1, gamma=1, kernel=rbf, score=0.667, total=   0.0s\n",
            "[CV] C=0.1, gamma=1, kernel=rbf ......................................\n",
            "[CV] .......... C=0.1, gamma=1, kernel=rbf, score=0.667, total=   0.0s\n",
            "[CV] C=0.1, gamma=1, kernel=rbf ......................................\n",
            "[CV] .......... C=0.1, gamma=1, kernel=rbf, score=0.667, total=   0.0s\n",
            "[CV] C=0.1, gamma=1, kernel=rbf ......................................\n",
            "[CV] .......... C=0.1, gamma=1, kernel=rbf, score=0.683, total=   0.0s\n",
            "[CV] C=0.1, gamma=0.1, kernel=rbf ....................................\n",
            "[CV] ........ C=0.1, gamma=0.1, kernel=rbf, score=0.690, total=   0.0s\n",
            "[CV] C=0.1, gamma=0.1, kernel=rbf ....................................\n",
            "[CV] ........ C=0.1, gamma=0.1, kernel=rbf, score=0.667, total=   0.0s\n",
            "[CV] C=0.1, gamma=0.1, kernel=rbf ....................................\n",
            "[CV] ........ C=0.1, gamma=0.1, kernel=rbf, score=0.667, total=   0.0s\n",
            "[CV] C=0.1, gamma=0.1, kernel=rbf ....................................\n",
            "[CV] ........ C=0.1, gamma=0.1, kernel=rbf, score=0.667, total=   0.0s\n",
            "[CV] C=0.1, gamma=0.1, kernel=rbf ....................................\n",
            "[CV] ........ C=0.1, gamma=0.1, kernel=rbf, score=0.683, total=   0.0s\n",
            "[CV] C=0.1, gamma=0.01, kernel=rbf ...................................\n",
            "[CV] ....... C=0.1, gamma=0.01, kernel=rbf, score=0.690, total=   0.0s\n",
            "[CV] C=0.1, gamma=0.01, kernel=rbf ...................................\n",
            "[CV] ....... C=0.1, gamma=0.01, kernel=rbf, score=0.667, total=   0.0s\n",
            "[CV] C=0.1, gamma=0.01, kernel=rbf ...................................\n",
            "[CV] ....... C=0.1, gamma=0.01, kernel=rbf, score=0.667, total=   0.0s\n",
            "[CV] C=0.1, gamma=0.01, kernel=rbf ...................................\n",
            "[CV] ....... C=0.1, gamma=0.01, kernel=rbf, score=0.667, total=   0.0s\n",
            "[CV] C=0.1, gamma=0.01, kernel=rbf ...................................\n",
            "[CV] ....... C=0.1, gamma=0.01, kernel=rbf, score=0.683, total=   0.0s\n",
            "[CV] C=0.1, gamma=0.001, kernel=rbf ..................................\n",
            "[CV] ...... C=0.1, gamma=0.001, kernel=rbf, score=0.690, total=   0.0s\n",
            "[CV] C=0.1, gamma=0.001, kernel=rbf ..................................\n",
            "[CV] ...... C=0.1, gamma=0.001, kernel=rbf, score=0.667, total=   0.0s\n",
            "[CV] C=0.1, gamma=0.001, kernel=rbf ..................................\n",
            "[CV] ...... C=0.1, gamma=0.001, kernel=rbf, score=0.667, total=   0.0s\n",
            "[CV] C=0.1, gamma=0.001, kernel=rbf ..................................\n",
            "[CV] ...... C=0.1, gamma=0.001, kernel=rbf, score=0.667, total=   0.0s\n",
            "[CV] C=0.1, gamma=0.001, kernel=rbf ..................................\n",
            "[CV] ...... C=0.1, gamma=0.001, kernel=rbf, score=0.683, total=   0.0s\n",
            "[CV] C=0.1, gamma=0.0001, kernel=rbf .................................\n",
            "[CV] ..... C=0.1, gamma=0.0001, kernel=rbf, score=0.690, total=   0.0s\n",
            "[CV] C=0.1, gamma=0.0001, kernel=rbf .................................\n",
            "[CV] ..... C=0.1, gamma=0.0001, kernel=rbf, score=0.667, total=   0.0s\n",
            "[CV] C=0.1, gamma=0.0001, kernel=rbf .................................\n",
            "[CV] ..... C=0.1, gamma=0.0001, kernel=rbf, score=0.667, total=   0.0s\n",
            "[CV] C=0.1, gamma=0.0001, kernel=rbf .................................\n",
            "[CV] ..... C=0.1, gamma=0.0001, kernel=rbf, score=0.667, total=   0.0s\n",
            "[CV] C=0.1, gamma=0.0001, kernel=rbf .................................\n",
            "[CV] ..... C=0.1, gamma=0.0001, kernel=rbf, score=0.683, total=   0.0s\n",
            "[CV] C=1, gamma=1, kernel=rbf ........................................\n",
            "[CV] ............ C=1, gamma=1, kernel=rbf, score=0.690, total=   0.0s\n",
            "[CV] C=1, gamma=1, kernel=rbf ........................................\n",
            "[CV] ............ C=1, gamma=1, kernel=rbf, score=0.667, total=   0.0s\n",
            "[CV] C=1, gamma=1, kernel=rbf ........................................\n",
            "[CV] ............ C=1, gamma=1, kernel=rbf, score=0.667, total=   0.0s\n",
            "[CV] C=1, gamma=1, kernel=rbf ........................................\n"
          ]
        },
        {
          "output_type": "stream",
          "name": "stderr",
          "text": [
            "[Parallel(n_jobs=1)]: Using backend SequentialBackend with 1 concurrent workers.\n",
            "[Parallel(n_jobs=1)]: Done   1 out of   1 | elapsed:    0.0s remaining:    0.0s\n",
            "[Parallel(n_jobs=1)]: Done   2 out of   2 | elapsed:    0.0s remaining:    0.0s\n"
          ]
        },
        {
          "output_type": "stream",
          "name": "stdout",
          "text": [
            "[CV] ............ C=1, gamma=1, kernel=rbf, score=0.667, total=   0.0s\n",
            "[CV] C=1, gamma=1, kernel=rbf ........................................\n",
            "[CV] ............ C=1, gamma=1, kernel=rbf, score=0.683, total=   0.0s\n",
            "[CV] C=1, gamma=0.1, kernel=rbf ......................................\n",
            "[CV] .......... C=1, gamma=0.1, kernel=rbf, score=0.690, total=   0.0s\n",
            "[CV] C=1, gamma=0.1, kernel=rbf ......................................\n",
            "[CV] .......... C=1, gamma=0.1, kernel=rbf, score=0.667, total=   0.0s\n",
            "[CV] C=1, gamma=0.1, kernel=rbf ......................................\n",
            "[CV] .......... C=1, gamma=0.1, kernel=rbf, score=0.667, total=   0.0s\n",
            "[CV] C=1, gamma=0.1, kernel=rbf ......................................\n",
            "[CV] .......... C=1, gamma=0.1, kernel=rbf, score=0.667, total=   0.0s\n",
            "[CV] C=1, gamma=0.1, kernel=rbf ......................................\n",
            "[CV] .......... C=1, gamma=0.1, kernel=rbf, score=0.683, total=   0.0s\n",
            "[CV] C=1, gamma=0.01, kernel=rbf .....................................\n",
            "[CV] ......... C=1, gamma=0.01, kernel=rbf, score=0.690, total=   0.0s\n",
            "[CV] C=1, gamma=0.01, kernel=rbf .....................................\n",
            "[CV] ......... C=1, gamma=0.01, kernel=rbf, score=0.667, total=   0.0s\n",
            "[CV] C=1, gamma=0.01, kernel=rbf .....................................\n",
            "[CV] ......... C=1, gamma=0.01, kernel=rbf, score=0.667, total=   0.0s\n",
            "[CV] C=1, gamma=0.01, kernel=rbf .....................................\n",
            "[CV] ......... C=1, gamma=0.01, kernel=rbf, score=0.667, total=   0.0s\n",
            "[CV] C=1, gamma=0.01, kernel=rbf .....................................\n",
            "[CV] ......... C=1, gamma=0.01, kernel=rbf, score=0.683, total=   0.0s\n",
            "[CV] C=1, gamma=0.001, kernel=rbf ....................................\n",
            "[CV] ........ C=1, gamma=0.001, kernel=rbf, score=0.667, total=   0.0s\n",
            "[CV] C=1, gamma=0.001, kernel=rbf ....................................\n",
            "[CV] ........ C=1, gamma=0.001, kernel=rbf, score=0.667, total=   0.0s\n",
            "[CV] C=1, gamma=0.001, kernel=rbf ....................................\n",
            "[CV] ........ C=1, gamma=0.001, kernel=rbf, score=0.667, total=   0.0s\n",
            "[CV] C=1, gamma=0.001, kernel=rbf ....................................\n",
            "[CV] ........ C=1, gamma=0.001, kernel=rbf, score=0.667, total=   0.0s\n",
            "[CV] C=1, gamma=0.001, kernel=rbf ....................................\n",
            "[CV] ........ C=1, gamma=0.001, kernel=rbf, score=0.683, total=   0.0s\n",
            "[CV] C=1, gamma=0.0001, kernel=rbf ...................................\n",
            "[CV] ....... C=1, gamma=0.0001, kernel=rbf, score=0.667, total=   0.0s\n",
            "[CV] C=1, gamma=0.0001, kernel=rbf ...................................\n",
            "[CV] ....... C=1, gamma=0.0001, kernel=rbf, score=0.643, total=   0.0s\n",
            "[CV] C=1, gamma=0.0001, kernel=rbf ...................................\n",
            "[CV] ....... C=1, gamma=0.0001, kernel=rbf, score=0.667, total=   0.0s\n",
            "[CV] C=1, gamma=0.0001, kernel=rbf ...................................\n",
            "[CV] ....... C=1, gamma=0.0001, kernel=rbf, score=0.690, total=   0.0s\n",
            "[CV] C=1, gamma=0.0001, kernel=rbf ...................................\n",
            "[CV] ....... C=1, gamma=0.0001, kernel=rbf, score=0.707, total=   0.0s\n",
            "[CV] C=10, gamma=1, kernel=rbf .......................................\n",
            "[CV] ........... C=10, gamma=1, kernel=rbf, score=0.690, total=   0.0s\n",
            "[CV] C=10, gamma=1, kernel=rbf .......................................\n",
            "[CV] ........... C=10, gamma=1, kernel=rbf, score=0.667, total=   0.0s\n",
            "[CV] C=10, gamma=1, kernel=rbf .......................................\n",
            "[CV] ........... C=10, gamma=1, kernel=rbf, score=0.667, total=   0.0s\n",
            "[CV] C=10, gamma=1, kernel=rbf .......................................\n",
            "[CV] ........... C=10, gamma=1, kernel=rbf, score=0.667, total=   0.0s\n",
            "[CV] C=10, gamma=1, kernel=rbf .......................................\n",
            "[CV] ........... C=10, gamma=1, kernel=rbf, score=0.683, total=   0.0s\n",
            "[CV] C=10, gamma=0.1, kernel=rbf .....................................\n",
            "[CV] ......... C=10, gamma=0.1, kernel=rbf, score=0.690, total=   0.0s\n",
            "[CV] C=10, gamma=0.1, kernel=rbf .....................................\n",
            "[CV] ......... C=10, gamma=0.1, kernel=rbf, score=0.667, total=   0.0s\n",
            "[CV] C=10, gamma=0.1, kernel=rbf .....................................\n",
            "[CV] ......... C=10, gamma=0.1, kernel=rbf, score=0.667, total=   0.0s\n",
            "[CV] C=10, gamma=0.1, kernel=rbf .....................................\n",
            "[CV] ......... C=10, gamma=0.1, kernel=rbf, score=0.667, total=   0.0s\n",
            "[CV] C=10, gamma=0.1, kernel=rbf .....................................\n",
            "[CV] ......... C=10, gamma=0.1, kernel=rbf, score=0.683, total=   0.0s\n",
            "[CV] C=10, gamma=0.01, kernel=rbf ....................................\n",
            "[CV] ........ C=10, gamma=0.01, kernel=rbf, score=0.690, total=   0.0s\n",
            "[CV] C=10, gamma=0.01, kernel=rbf ....................................\n",
            "[CV] ........ C=10, gamma=0.01, kernel=rbf, score=0.667, total=   0.0s\n",
            "[CV] C=10, gamma=0.01, kernel=rbf ....................................\n",
            "[CV] ........ C=10, gamma=0.01, kernel=rbf, score=0.667, total=   0.0s\n",
            "[CV] C=10, gamma=0.01, kernel=rbf ....................................\n",
            "[CV] ........ C=10, gamma=0.01, kernel=rbf, score=0.667, total=   0.0s\n",
            "[CV] C=10, gamma=0.01, kernel=rbf ....................................\n",
            "[CV] ........ C=10, gamma=0.01, kernel=rbf, score=0.683, total=   0.0s\n",
            "[CV] C=10, gamma=0.001, kernel=rbf ...................................\n",
            "[CV] ....... C=10, gamma=0.001, kernel=rbf, score=0.667, total=   0.0s\n",
            "[CV] C=10, gamma=0.001, kernel=rbf ...................................\n",
            "[CV] ....... C=10, gamma=0.001, kernel=rbf, score=0.667, total=   0.0s\n",
            "[CV] C=10, gamma=0.001, kernel=rbf ...................................\n",
            "[CV] ....... C=10, gamma=0.001, kernel=rbf, score=0.667, total=   0.0s\n",
            "[CV] C=10, gamma=0.001, kernel=rbf ...................................\n",
            "[CV] ....... C=10, gamma=0.001, kernel=rbf, score=0.667, total=   0.0s\n",
            "[CV] C=10, gamma=0.001, kernel=rbf ...................................\n",
            "[CV] ....... C=10, gamma=0.001, kernel=rbf, score=0.683, total=   0.0s\n",
            "[CV] C=10, gamma=0.0001, kernel=rbf ..................................\n",
            "[CV] ...... C=10, gamma=0.0001, kernel=rbf, score=0.667, total=   0.0s\n",
            "[CV] C=10, gamma=0.0001, kernel=rbf ..................................\n",
            "[CV] ...... C=10, gamma=0.0001, kernel=rbf, score=0.667, total=   0.0s\n",
            "[CV] C=10, gamma=0.0001, kernel=rbf ..................................\n",
            "[CV] ...... C=10, gamma=0.0001, kernel=rbf, score=0.667, total=   0.0s\n",
            "[CV] C=10, gamma=0.0001, kernel=rbf ..................................\n",
            "[CV] ...... C=10, gamma=0.0001, kernel=rbf, score=0.714, total=   0.0s\n",
            "[CV] C=10, gamma=0.0001, kernel=rbf ..................................\n",
            "[CV] ...... C=10, gamma=0.0001, kernel=rbf, score=0.707, total=   0.0s\n",
            "[CV] C=100, gamma=1, kernel=rbf ......................................\n",
            "[CV] .......... C=100, gamma=1, kernel=rbf, score=0.690, total=   0.0s\n",
            "[CV] C=100, gamma=1, kernel=rbf ......................................\n",
            "[CV] .......... C=100, gamma=1, kernel=rbf, score=0.667, total=   0.0s\n",
            "[CV] C=100, gamma=1, kernel=rbf ......................................\n",
            "[CV] .......... C=100, gamma=1, kernel=rbf, score=0.667, total=   0.0s\n",
            "[CV] C=100, gamma=1, kernel=rbf ......................................\n",
            "[CV] .......... C=100, gamma=1, kernel=rbf, score=0.667, total=   0.0s\n",
            "[CV] C=100, gamma=1, kernel=rbf ......................................\n",
            "[CV] .......... C=100, gamma=1, kernel=rbf, score=0.683, total=   0.0s\n",
            "[CV] C=100, gamma=0.1, kernel=rbf ....................................\n",
            "[CV] ........ C=100, gamma=0.1, kernel=rbf, score=0.690, total=   0.0s\n",
            "[CV] C=100, gamma=0.1, kernel=rbf ....................................\n",
            "[CV] ........ C=100, gamma=0.1, kernel=rbf, score=0.667, total=   0.0s\n",
            "[CV] C=100, gamma=0.1, kernel=rbf ....................................\n",
            "[CV] ........ C=100, gamma=0.1, kernel=rbf, score=0.667, total=   0.0s\n",
            "[CV] C=100, gamma=0.1, kernel=rbf ....................................\n",
            "[CV] ........ C=100, gamma=0.1, kernel=rbf, score=0.667, total=   0.0s\n",
            "[CV] C=100, gamma=0.1, kernel=rbf ....................................\n",
            "[CV] ........ C=100, gamma=0.1, kernel=rbf, score=0.683, total=   0.0s\n",
            "[CV] C=100, gamma=0.01, kernel=rbf ...................................\n",
            "[CV] ....... C=100, gamma=0.01, kernel=rbf, score=0.690, total=   0.0s\n",
            "[CV] C=100, gamma=0.01, kernel=rbf ...................................\n",
            "[CV] ....... C=100, gamma=0.01, kernel=rbf, score=0.667, total=   0.0s\n",
            "[CV] C=100, gamma=0.01, kernel=rbf ...................................\n",
            "[CV] ....... C=100, gamma=0.01, kernel=rbf, score=0.667, total=   0.0s\n",
            "[CV] C=100, gamma=0.01, kernel=rbf ...................................\n",
            "[CV] ....... C=100, gamma=0.01, kernel=rbf, score=0.667, total=   0.0s\n",
            "[CV] C=100, gamma=0.01, kernel=rbf ...................................\n",
            "[CV] ....... C=100, gamma=0.01, kernel=rbf, score=0.683, total=   0.0s\n",
            "[CV] C=100, gamma=0.001, kernel=rbf ..................................\n",
            "[CV] ...... C=100, gamma=0.001, kernel=rbf, score=0.667, total=   0.0s\n",
            "[CV] C=100, gamma=0.001, kernel=rbf ..................................\n",
            "[CV] ...... C=100, gamma=0.001, kernel=rbf, score=0.667, total=   0.0s\n",
            "[CV] C=100, gamma=0.001, kernel=rbf ..................................\n",
            "[CV] ...... C=100, gamma=0.001, kernel=rbf, score=0.667, total=   0.0s\n",
            "[CV] C=100, gamma=0.001, kernel=rbf ..................................\n",
            "[CV] ...... C=100, gamma=0.001, kernel=rbf, score=0.667, total=   0.0s\n",
            "[CV] C=100, gamma=0.001, kernel=rbf ..................................\n",
            "[CV] ...... C=100, gamma=0.001, kernel=rbf, score=0.683, total=   0.0s\n",
            "[CV] C=100, gamma=0.0001, kernel=rbf .................................\n",
            "[CV] ..... C=100, gamma=0.0001, kernel=rbf, score=0.667, total=   0.0s\n",
            "[CV] C=100, gamma=0.0001, kernel=rbf .................................\n",
            "[CV] ..... C=100, gamma=0.0001, kernel=rbf, score=0.667, total=   0.0s\n",
            "[CV] C=100, gamma=0.0001, kernel=rbf .................................\n",
            "[CV] ..... C=100, gamma=0.0001, kernel=rbf, score=0.667, total=   0.0s\n",
            "[CV] C=100, gamma=0.0001, kernel=rbf .................................\n",
            "[CV] ..... C=100, gamma=0.0001, kernel=rbf, score=0.714, total=   0.0s\n",
            "[CV] C=100, gamma=0.0001, kernel=rbf .................................\n",
            "[CV] ..... C=100, gamma=0.0001, kernel=rbf, score=0.707, total=   0.0s\n",
            "[CV] C=1000, gamma=1, kernel=rbf .....................................\n",
            "[CV] ......... C=1000, gamma=1, kernel=rbf, score=0.690, total=   0.0s\n",
            "[CV] C=1000, gamma=1, kernel=rbf .....................................\n",
            "[CV] ......... C=1000, gamma=1, kernel=rbf, score=0.667, total=   0.0s\n",
            "[CV] C=1000, gamma=1, kernel=rbf .....................................\n",
            "[CV] ......... C=1000, gamma=1, kernel=rbf, score=0.667, total=   0.0s\n",
            "[CV] C=1000, gamma=1, kernel=rbf .....................................\n",
            "[CV] ......... C=1000, gamma=1, kernel=rbf, score=0.667, total=   0.0s\n",
            "[CV] C=1000, gamma=1, kernel=rbf .....................................\n",
            "[CV] ......... C=1000, gamma=1, kernel=rbf, score=0.683, total=   0.0s\n",
            "[CV] C=1000, gamma=0.1, kernel=rbf ...................................\n",
            "[CV] ....... C=1000, gamma=0.1, kernel=rbf, score=0.690, total=   0.0s\n",
            "[CV] C=1000, gamma=0.1, kernel=rbf ...................................\n",
            "[CV] ....... C=1000, gamma=0.1, kernel=rbf, score=0.667, total=   0.0s\n",
            "[CV] C=1000, gamma=0.1, kernel=rbf ...................................\n",
            "[CV] ....... C=1000, gamma=0.1, kernel=rbf, score=0.667, total=   0.0s\n",
            "[CV] C=1000, gamma=0.1, kernel=rbf ...................................\n",
            "[CV] ....... C=1000, gamma=0.1, kernel=rbf, score=0.667, total=   0.0s\n",
            "[CV] C=1000, gamma=0.1, kernel=rbf ...................................\n",
            "[CV] ....... C=1000, gamma=0.1, kernel=rbf, score=0.683, total=   0.0s\n",
            "[CV] C=1000, gamma=0.01, kernel=rbf ..................................\n",
            "[CV] ...... C=1000, gamma=0.01, kernel=rbf, score=0.690, total=   0.0s\n",
            "[CV] C=1000, gamma=0.01, kernel=rbf ..................................\n",
            "[CV] ...... C=1000, gamma=0.01, kernel=rbf, score=0.667, total=   0.0s\n",
            "[CV] C=1000, gamma=0.01, kernel=rbf ..................................\n",
            "[CV] ...... C=1000, gamma=0.01, kernel=rbf, score=0.667, total=   0.0s\n",
            "[CV] C=1000, gamma=0.01, kernel=rbf ..................................\n",
            "[CV] ...... C=1000, gamma=0.01, kernel=rbf, score=0.667, total=   0.0s\n",
            "[CV] C=1000, gamma=0.01, kernel=rbf ..................................\n",
            "[CV] ...... C=1000, gamma=0.01, kernel=rbf, score=0.683, total=   0.0s\n",
            "[CV] C=1000, gamma=0.001, kernel=rbf .................................\n",
            "[CV] ..... C=1000, gamma=0.001, kernel=rbf, score=0.667, total=   0.0s\n",
            "[CV] C=1000, gamma=0.001, kernel=rbf .................................\n",
            "[CV] ..... C=1000, gamma=0.001, kernel=rbf, score=0.667, total=   0.0s\n",
            "[CV] C=1000, gamma=0.001, kernel=rbf .................................\n",
            "[CV] ..... C=1000, gamma=0.001, kernel=rbf, score=0.667, total=   0.0s\n",
            "[CV] C=1000, gamma=0.001, kernel=rbf .................................\n",
            "[CV] ..... C=1000, gamma=0.001, kernel=rbf, score=0.667, total=   0.0s\n",
            "[CV] C=1000, gamma=0.001, kernel=rbf .................................\n",
            "[CV] ..... C=1000, gamma=0.001, kernel=rbf, score=0.683, total=   0.0s\n",
            "[CV] C=1000, gamma=0.0001, kernel=rbf ................................\n",
            "[CV] .... C=1000, gamma=0.0001, kernel=rbf, score=0.667, total=   0.0s\n",
            "[CV] C=1000, gamma=0.0001, kernel=rbf ................................\n",
            "[CV] .... C=1000, gamma=0.0001, kernel=rbf, score=0.667, total=   0.0s\n",
            "[CV] C=1000, gamma=0.0001, kernel=rbf ................................\n",
            "[CV] .... C=1000, gamma=0.0001, kernel=rbf, score=0.667, total=   0.0s\n",
            "[CV] C=1000, gamma=0.0001, kernel=rbf ................................\n",
            "[CV] .... C=1000, gamma=0.0001, kernel=rbf, score=0.714, total=   0.0s\n",
            "[CV] C=1000, gamma=0.0001, kernel=rbf ................................\n",
            "[CV] .... C=1000, gamma=0.0001, kernel=rbf, score=0.707, total=   0.0s\n"
          ]
        },
        {
          "output_type": "stream",
          "name": "stderr",
          "text": [
            "[Parallel(n_jobs=1)]: Done 125 out of 125 | elapsed:    0.9s finished\n"
          ]
        },
        {
          "output_type": "execute_result",
          "data": {
            "text/plain": [
              "GridSearchCV(cv=None, error_score=nan,\n",
              "             estimator=SVC(C=1.0, break_ties=False, cache_size=200,\n",
              "                           class_weight=None, coef0=0.0,\n",
              "                           decision_function_shape='ovr', degree=3,\n",
              "                           gamma='scale', kernel='rbf', max_iter=-1,\n",
              "                           probability=False, random_state=None, shrinking=True,\n",
              "                           tol=0.001, verbose=False),\n",
              "             iid='deprecated', n_jobs=None,\n",
              "             param_grid={'C': [0.1, 1, 10, 100, 1000],\n",
              "                         'gamma': [1, 0.1, 0.01, 0.001, 0.0001],\n",
              "                         'kernel': ['rbf']},\n",
              "             pre_dispatch='2*n_jobs', refit=True, return_train_score=False,\n",
              "             scoring=None, verbose=3)"
            ]
          },
          "metadata": {},
          "execution_count": 78
        }
      ]
    },
    {
      "cell_type": "code",
      "metadata": {
        "colab": {
          "base_uri": "https://localhost:8080/"
        },
        "id": "pSPfxz1cq8jw",
        "outputId": "e7f6818f-e60c-4b64-a6dc-0b9c9e20d1f8"
      },
      "source": [
        "grid.best_estimator_"
      ],
      "execution_count": 79,
      "outputs": [
        {
          "output_type": "execute_result",
          "data": {
            "text/plain": [
              "SVC(C=10, break_ties=False, cache_size=200, class_weight=None, coef0=0.0,\n",
              "    decision_function_shape='ovr', degree=3, gamma=0.0001, kernel='rbf',\n",
              "    max_iter=-1, probability=False, random_state=None, shrinking=True,\n",
              "    tol=0.001, verbose=False)"
            ]
          },
          "metadata": {},
          "execution_count": 79
        }
      ]
    },
    {
      "cell_type": "code",
      "metadata": {
        "id": "G2BZufXFuL9j",
        "colab": {
          "base_uri": "https://localhost:8080/"
        },
        "outputId": "4f7fce15-51f6-43be-a725-fd499dd7572b"
      },
      "source": [
        "svc = SVC(C=10, gamma=0.0001)\n",
        "svc.fit(X_train, y_train)\n",
        "y_pred2 = svc.predict(X_test)\n",
        "evaluating_model(y_test, y_pred2)"
      ],
      "execution_count": 80,
      "outputs": [
        {
          "output_type": "stream",
          "name": "stdout",
          "text": [
            "Accuracy Score:  0.6777777777777778\n",
            "Confusin Matrix:  [[59  3]\n",
            " [26  2]]\n",
            "Precision Score:  0.4\n",
            "Recall Score:  0.07142857142857142\n"
          ]
        }
      ]
    },
    {
      "cell_type": "code",
      "metadata": {
        "colab": {
          "base_uri": "https://localhost:8080/"
        },
        "id": "YyRiVetsdvxc",
        "outputId": "7bf9fca9-fb12-4037-f838-225ce3781dbd"
      },
      "source": [
        "#Using Deciision Tree Classifier\n",
        "\n",
        "from sklearn.tree import DecisionTreeClassifier\n",
        "from sklearn.model_selection import RandomizedSearchCV\n",
        "\n",
        "def randomized_search(params, runs=20, clf=DecisionTreeClassifier(random_state=2)):\n",
        "    rand_clf = RandomizedSearchCV(clf, params, n_iter=runs, cv=5, n_jobs=1, random_state=2)\n",
        "    rand_clf.fit(X_train, y_train)\n",
        "    best_model = rand_clf.best_estimator_\n",
        "    best_score = rand_clf.best_score_\n",
        "\n",
        "    print(\"Traning score: {:.3F}\".format(best_score))\n",
        "    y_pred3 = best_model.predict(X_test)\n",
        "    accuracy = accuracy_score(y_test, y_pred3)\n",
        "    print(\"Test score: {:.3F}\".format(accuracy))\n",
        "\n",
        "    return best_model\n",
        "\n",
        "randomized_search(params={'criterion': ['entropy', 'gini'],\n",
        "                          'splitter': ['random', 'best'],\n",
        "                          'min_weight_fraction_leaf': [0.0, 0.0025, 0.005, 0.0075, 0.01],\n",
        "                          'min_samples_split': [2, 3, 4, 5, 6, 8, 10],\n",
        "                          'min_samples_leaf': [1, 0.01, 0.02, 0.03, 0.04],\n",
        "                          'min_impurity_decrease': [0.0, 0.0005, 0.005, 0.05, 0.1, 0.15, 0.2],\n",
        "                          'max_leaf_nodes': [10, 15, 20, 25, 30, 35, 40, 45, 50, None],\n",
        "                          'max_features': ['auto', 0.95, 0.9, 0.85, 0.8, 0.75, 0.7],\n",
        "                          'max_depth': [None, 2, 4, 6, 8],\n",
        "                          'min_weight_fraction_leaf': [0.0, 0.0025, 0.005, 0.0075, 0.01, 0.05]\n",
        "                          })\n"
      ],
      "execution_count": 84,
      "outputs": [
        {
          "output_type": "stream",
          "name": "stdout",
          "text": [
            "Traning score: 0.847\n",
            "Test score: 0.756\n"
          ]
        },
        {
          "output_type": "execute_result",
          "data": {
            "text/plain": [
              "DecisionTreeClassifier(ccp_alpha=0.0, class_weight=None, criterion='entropy',\n",
              "                       max_depth=4, max_features=0.75, max_leaf_nodes=25,\n",
              "                       min_impurity_decrease=0.0005, min_impurity_split=None,\n",
              "                       min_samples_leaf=1, min_samples_split=5,\n",
              "                       min_weight_fraction_leaf=0.0075, presort='deprecated',\n",
              "                       random_state=2, splitter='best')"
            ]
          },
          "metadata": {},
          "execution_count": 84
        }
      ]
    },
    {
      "cell_type": "code",
      "metadata": {
        "colab": {
          "base_uri": "https://localhost:8080/"
        },
        "id": "QWITC2eWzyEO",
        "outputId": "4ede2274-5114-4d07-fc26-7fbe7c71598d"
      },
      "source": [
        "ds_clf = DecisionTreeClassifier(max_depth=8, max_features=0.9, max_leaf_nodes=30,\n",
        "                                min_impurity_decrease=0.05, min_samples_leaf=0.02,\n",
        "                                min_samples_split=10, min_weight_fraction_leaf=0.005,\n",
        "                                random_state=2, splitter='random')\n",
        "ds_clf.fit(X_train, y_train)\n",
        "y_pred4 = ds_clf.predict(X_test)\n",
        "evaluating_model(y_test, y_pred4)"
      ],
      "execution_count": 87,
      "outputs": [
        {
          "output_type": "stream",
          "name": "stdout",
          "text": [
            "Accuracy Score:  0.8111111111111111\n",
            "Confusin Matrix:  [[55  7]\n",
            " [10 18]]\n",
            "Precision Score:  0.72\n",
            "Recall Score:  0.6428571428571429\n"
          ]
        }
      ]
    },
    {
      "cell_type": "code",
      "metadata": {
        "colab": {
          "base_uri": "https://localhost:8080/"
        },
        "id": "fL24KHIR1A9p",
        "outputId": "821a2576-1772-4962-83bb-6eb7ba679a51"
      },
      "source": [
        "#Random Forest\n",
        "from sklearn.ensemble import RandomForestClassifier\n",
        "\n",
        "randomized_search(params={'min_samples_leaf': [1, 2, 4, 6, 8, 10, 20, 30],\n",
        "                          'min_impurity_decrease': [0.0, 0.01, 0.05, 0.1, 0.15, 0.2],\n",
        "                          'max_features': ['auto', 0.8, 0.7, 0.6, 0.5, 0.4],\n",
        "                          'max_depth': [None, 2, 4, 6, 8, 10, 20],\n",
        "                          }, clf=RandomForestClassifier(random_state=2))"
      ],
      "execution_count": 86,
      "outputs": [
        {
          "output_type": "stream",
          "name": "stdout",
          "text": [
            "Traning score: 0.847\n",
            "Test score: 0.867\n"
          ]
        },
        {
          "output_type": "execute_result",
          "data": {
            "text/plain": [
              "RandomForestClassifier(bootstrap=True, ccp_alpha=0.0, class_weight=None,\n",
              "                       criterion='gini', max_depth=2, max_features=0.5,\n",
              "                       max_leaf_nodes=None, max_samples=None,\n",
              "                       min_impurity_decrease=0.01, min_impurity_split=None,\n",
              "                       min_samples_leaf=10, min_samples_split=2,\n",
              "                       min_weight_fraction_leaf=0.0, n_estimators=100,\n",
              "                       n_jobs=None, oob_score=False, random_state=2, verbose=0,\n",
              "                       warm_start=False)"
            ]
          },
          "metadata": {},
          "execution_count": 86
        }
      ]
    },
    {
      "cell_type": "code",
      "metadata": {
        "colab": {
          "base_uri": "https://localhost:8080/"
        },
        "id": "FO3r2H8z8XFP",
        "outputId": "e95cad67-e66f-4f20-aa43-4770607652e5"
      },
      "source": [
        "rf_clf = RandomForestClassifier(max_depth=2, max_features=0.5, min_impurity_decrease=0.01, min_samples_leaf=10, random_state=2)\n",
        "rf_clf.fit(X_train, y_train)\n",
        "y_pred5 = rf_clf.predict(X_test)\n",
        "evaluating_model(y_test, y_pred5)"
      ],
      "execution_count": 88,
      "outputs": [
        {
          "output_type": "stream",
          "name": "stdout",
          "text": [
            "Accuracy Score:  0.8666666666666667\n",
            "Confusin Matrix:  [[60  2]\n",
            " [10 18]]\n",
            "Precision Score:  0.9\n",
            "Recall Score:  0.6428571428571429\n"
          ]
        }
      ]
    },
    {
      "cell_type": "code",
      "metadata": {
        "colab": {
          "base_uri": "https://localhost:8080/"
        },
        "id": "Z8BBmZ9i9zAO",
        "outputId": "516dd69b-c169-41ae-ebd1-dafbd74a8918"
      },
      "source": [
        "#XGBoost\n",
        "from xgboost import XGBClassifier\n",
        "\n",
        "xgb1 = XGBClassifier(colsample_bytree=1, learning_rate=0.1,\n",
        "                     max_depth=4,\n",
        "                     n_estimators=400,\n",
        "                     subsample=1)\n",
        "\n",
        "eval_set = [(X_train, y_train)]\n",
        "xgb1.fit(X_train, y_train, early_stopping_rounds=10, eval_metric='logloss', eval_set=eval_set, verbose=True)"
      ],
      "execution_count": 100,
      "outputs": [
        {
          "output_type": "stream",
          "name": "stdout",
          "text": [
            "[0]\tvalidation_0-logloss:0.635042\n",
            "Will train until validation_0-logloss hasn't improved in 10 rounds.\n",
            "[1]\tvalidation_0-logloss:0.587583\n",
            "[2]\tvalidation_0-logloss:0.544076\n",
            "[3]\tvalidation_0-logloss:0.507975\n",
            "[4]\tvalidation_0-logloss:0.47626\n",
            "[5]\tvalidation_0-logloss:0.449701\n",
            "[6]\tvalidation_0-logloss:0.42566\n",
            "[7]\tvalidation_0-logloss:0.402449\n",
            "[8]\tvalidation_0-logloss:0.382089\n",
            "[9]\tvalidation_0-logloss:0.363549\n",
            "[10]\tvalidation_0-logloss:0.348121\n",
            "[11]\tvalidation_0-logloss:0.332649\n",
            "[12]\tvalidation_0-logloss:0.318897\n",
            "[13]\tvalidation_0-logloss:0.306165\n",
            "[14]\tvalidation_0-logloss:0.294509\n",
            "[15]\tvalidation_0-logloss:0.28197\n",
            "[16]\tvalidation_0-logloss:0.270911\n",
            "[17]\tvalidation_0-logloss:0.260966\n",
            "[18]\tvalidation_0-logloss:0.251237\n",
            "[19]\tvalidation_0-logloss:0.241522\n",
            "[20]\tvalidation_0-logloss:0.234594\n",
            "[21]\tvalidation_0-logloss:0.227092\n",
            "[22]\tvalidation_0-logloss:0.219604\n",
            "[23]\tvalidation_0-logloss:0.213739\n",
            "[24]\tvalidation_0-logloss:0.207934\n",
            "[25]\tvalidation_0-logloss:0.20171\n",
            "[26]\tvalidation_0-logloss:0.196882\n",
            "[27]\tvalidation_0-logloss:0.1925\n",
            "[28]\tvalidation_0-logloss:0.18705\n",
            "[29]\tvalidation_0-logloss:0.182847\n",
            "[30]\tvalidation_0-logloss:0.179305\n",
            "[31]\tvalidation_0-logloss:0.17612\n",
            "[32]\tvalidation_0-logloss:0.171795\n",
            "[33]\tvalidation_0-logloss:0.167604\n",
            "[34]\tvalidation_0-logloss:0.164853\n",
            "[35]\tvalidation_0-logloss:0.16236\n",
            "[36]\tvalidation_0-logloss:0.158848\n",
            "[37]\tvalidation_0-logloss:0.155549\n",
            "[38]\tvalidation_0-logloss:0.15293\n",
            "[39]\tvalidation_0-logloss:0.150048\n",
            "[40]\tvalidation_0-logloss:0.14712\n",
            "[41]\tvalidation_0-logloss:0.144339\n",
            "[42]\tvalidation_0-logloss:0.141687\n",
            "[43]\tvalidation_0-logloss:0.138968\n",
            "[44]\tvalidation_0-logloss:0.136682\n",
            "[45]\tvalidation_0-logloss:0.13425\n",
            "[46]\tvalidation_0-logloss:0.131089\n",
            "[47]\tvalidation_0-logloss:0.129143\n",
            "[48]\tvalidation_0-logloss:0.126335\n",
            "[49]\tvalidation_0-logloss:0.124524\n",
            "[50]\tvalidation_0-logloss:0.122262\n",
            "[51]\tvalidation_0-logloss:0.120347\n",
            "[52]\tvalidation_0-logloss:0.118499\n",
            "[53]\tvalidation_0-logloss:0.11613\n",
            "[54]\tvalidation_0-logloss:0.114291\n",
            "[55]\tvalidation_0-logloss:0.112427\n",
            "[56]\tvalidation_0-logloss:0.1104\n",
            "[57]\tvalidation_0-logloss:0.108255\n",
            "[58]\tvalidation_0-logloss:0.106764\n",
            "[59]\tvalidation_0-logloss:0.10529\n",
            "[60]\tvalidation_0-logloss:0.104043\n",
            "[61]\tvalidation_0-logloss:0.102827\n",
            "[62]\tvalidation_0-logloss:0.101013\n",
            "[63]\tvalidation_0-logloss:0.099695\n",
            "[64]\tvalidation_0-logloss:0.098054\n",
            "[65]\tvalidation_0-logloss:0.096825\n",
            "[66]\tvalidation_0-logloss:0.095608\n",
            "[67]\tvalidation_0-logloss:0.094309\n",
            "[68]\tvalidation_0-logloss:0.09287\n",
            "[69]\tvalidation_0-logloss:0.091966\n",
            "[70]\tvalidation_0-logloss:0.09085\n",
            "[71]\tvalidation_0-logloss:0.088938\n",
            "[72]\tvalidation_0-logloss:0.087517\n",
            "[73]\tvalidation_0-logloss:0.085814\n",
            "[74]\tvalidation_0-logloss:0.084951\n",
            "[75]\tvalidation_0-logloss:0.0836\n",
            "[76]\tvalidation_0-logloss:0.082561\n",
            "[77]\tvalidation_0-logloss:0.081626\n",
            "[78]\tvalidation_0-logloss:0.080432\n",
            "[79]\tvalidation_0-logloss:0.079321\n",
            "[80]\tvalidation_0-logloss:0.078305\n",
            "[81]\tvalidation_0-logloss:0.077696\n",
            "[82]\tvalidation_0-logloss:0.076655\n",
            "[83]\tvalidation_0-logloss:0.075634\n",
            "[84]\tvalidation_0-logloss:0.074706\n",
            "[85]\tvalidation_0-logloss:0.073944\n",
            "[86]\tvalidation_0-logloss:0.073015\n",
            "[87]\tvalidation_0-logloss:0.072278\n",
            "[88]\tvalidation_0-logloss:0.071769\n",
            "[89]\tvalidation_0-logloss:0.07092\n",
            "[90]\tvalidation_0-logloss:0.07024\n",
            "[91]\tvalidation_0-logloss:0.069471\n",
            "[92]\tvalidation_0-logloss:0.068774\n",
            "[93]\tvalidation_0-logloss:0.068125\n",
            "[94]\tvalidation_0-logloss:0.067403\n",
            "[95]\tvalidation_0-logloss:0.066806\n",
            "[96]\tvalidation_0-logloss:0.066163\n",
            "[97]\tvalidation_0-logloss:0.065343\n",
            "[98]\tvalidation_0-logloss:0.064748\n",
            "[99]\tvalidation_0-logloss:0.064167\n",
            "[100]\tvalidation_0-logloss:0.063392\n",
            "[101]\tvalidation_0-logloss:0.062674\n",
            "[102]\tvalidation_0-logloss:0.062183\n",
            "[103]\tvalidation_0-logloss:0.061636\n",
            "[104]\tvalidation_0-logloss:0.061009\n",
            "[105]\tvalidation_0-logloss:0.060469\n",
            "[106]\tvalidation_0-logloss:0.060066\n",
            "[107]\tvalidation_0-logloss:0.05949\n",
            "[108]\tvalidation_0-logloss:0.059017\n",
            "[109]\tvalidation_0-logloss:0.058497\n",
            "[110]\tvalidation_0-logloss:0.057857\n",
            "[111]\tvalidation_0-logloss:0.057346\n",
            "[112]\tvalidation_0-logloss:0.056763\n",
            "[113]\tvalidation_0-logloss:0.056403\n",
            "[114]\tvalidation_0-logloss:0.056091\n",
            "[115]\tvalidation_0-logloss:0.055663\n",
            "[116]\tvalidation_0-logloss:0.055285\n",
            "[117]\tvalidation_0-logloss:0.054765\n",
            "[118]\tvalidation_0-logloss:0.054261\n",
            "[119]\tvalidation_0-logloss:0.053868\n",
            "[120]\tvalidation_0-logloss:0.0535\n",
            "[121]\tvalidation_0-logloss:0.053017\n",
            "[122]\tvalidation_0-logloss:0.05271\n",
            "[123]\tvalidation_0-logloss:0.052421\n",
            "[124]\tvalidation_0-logloss:0.052078\n",
            "[125]\tvalidation_0-logloss:0.051819\n",
            "[126]\tvalidation_0-logloss:0.051446\n",
            "[127]\tvalidation_0-logloss:0.051027\n",
            "[128]\tvalidation_0-logloss:0.050585\n",
            "[129]\tvalidation_0-logloss:0.050168\n",
            "[130]\tvalidation_0-logloss:0.049916\n",
            "[131]\tvalidation_0-logloss:0.049578\n",
            "[132]\tvalidation_0-logloss:0.049351\n",
            "[133]\tvalidation_0-logloss:0.049002\n",
            "[134]\tvalidation_0-logloss:0.04869\n",
            "[135]\tvalidation_0-logloss:0.04825\n",
            "[136]\tvalidation_0-logloss:0.047877\n",
            "[137]\tvalidation_0-logloss:0.047477\n",
            "[138]\tvalidation_0-logloss:0.047252\n",
            "[139]\tvalidation_0-logloss:0.046947\n",
            "[140]\tvalidation_0-logloss:0.046715\n",
            "[141]\tvalidation_0-logloss:0.046347\n",
            "[142]\tvalidation_0-logloss:0.046023\n",
            "[143]\tvalidation_0-logloss:0.045711\n",
            "[144]\tvalidation_0-logloss:0.045472\n",
            "[145]\tvalidation_0-logloss:0.045184\n",
            "[146]\tvalidation_0-logloss:0.044894\n",
            "[147]\tvalidation_0-logloss:0.044672\n",
            "[148]\tvalidation_0-logloss:0.044411\n",
            "[149]\tvalidation_0-logloss:0.044197\n",
            "[150]\tvalidation_0-logloss:0.043977\n",
            "[151]\tvalidation_0-logloss:0.043786\n",
            "[152]\tvalidation_0-logloss:0.043589\n",
            "[153]\tvalidation_0-logloss:0.043333\n",
            "[154]\tvalidation_0-logloss:0.043059\n",
            "[155]\tvalidation_0-logloss:0.042893\n",
            "[156]\tvalidation_0-logloss:0.042736\n",
            "[157]\tvalidation_0-logloss:0.042492\n",
            "[158]\tvalidation_0-logloss:0.042337\n",
            "[159]\tvalidation_0-logloss:0.04214\n",
            "[160]\tvalidation_0-logloss:0.041965\n",
            "[161]\tvalidation_0-logloss:0.04174\n",
            "[162]\tvalidation_0-logloss:0.041595\n",
            "[163]\tvalidation_0-logloss:0.041345\n",
            "[164]\tvalidation_0-logloss:0.041108\n",
            "[165]\tvalidation_0-logloss:0.040877\n",
            "[166]\tvalidation_0-logloss:0.040621\n",
            "[167]\tvalidation_0-logloss:0.040444\n",
            "[168]\tvalidation_0-logloss:0.040225\n",
            "[169]\tvalidation_0-logloss:0.040064\n",
            "[170]\tvalidation_0-logloss:0.039934\n",
            "[171]\tvalidation_0-logloss:0.0397\n",
            "[172]\tvalidation_0-logloss:0.039499\n",
            "[173]\tvalidation_0-logloss:0.039318\n",
            "[174]\tvalidation_0-logloss:0.039108\n",
            "[175]\tvalidation_0-logloss:0.038924\n",
            "[176]\tvalidation_0-logloss:0.03881\n",
            "[177]\tvalidation_0-logloss:0.038615\n",
            "[178]\tvalidation_0-logloss:0.038437\n",
            "[179]\tvalidation_0-logloss:0.038332\n",
            "[180]\tvalidation_0-logloss:0.03816\n",
            "[181]\tvalidation_0-logloss:0.03798\n",
            "[182]\tvalidation_0-logloss:0.03788\n",
            "[183]\tvalidation_0-logloss:0.037749\n",
            "[184]\tvalidation_0-logloss:0.037655\n",
            "[185]\tvalidation_0-logloss:0.037493\n",
            "[186]\tvalidation_0-logloss:0.037361\n",
            "[187]\tvalidation_0-logloss:0.037139\n",
            "[188]\tvalidation_0-logloss:0.037007\n",
            "[189]\tvalidation_0-logloss:0.036817\n",
            "[190]\tvalidation_0-logloss:0.036651\n",
            "[191]\tvalidation_0-logloss:0.036433\n",
            "[192]\tvalidation_0-logloss:0.036335\n",
            "[193]\tvalidation_0-logloss:0.036194\n",
            "[194]\tvalidation_0-logloss:0.036036\n",
            "[195]\tvalidation_0-logloss:0.035938\n",
            "[196]\tvalidation_0-logloss:0.035761\n",
            "[197]\tvalidation_0-logloss:0.035603\n",
            "[198]\tvalidation_0-logloss:0.035475\n",
            "[199]\tvalidation_0-logloss:0.035324\n",
            "[200]\tvalidation_0-logloss:0.035159\n",
            "[201]\tvalidation_0-logloss:0.035048\n",
            "[202]\tvalidation_0-logloss:0.034951\n",
            "[203]\tvalidation_0-logloss:0.03485\n",
            "[204]\tvalidation_0-logloss:0.034696\n",
            "[205]\tvalidation_0-logloss:0.034616\n",
            "[206]\tvalidation_0-logloss:0.034499\n",
            "[207]\tvalidation_0-logloss:0.03437\n",
            "[208]\tvalidation_0-logloss:0.034285\n",
            "[209]\tvalidation_0-logloss:0.034163\n",
            "[210]\tvalidation_0-logloss:0.034032\n",
            "[211]\tvalidation_0-logloss:0.033935\n",
            "[212]\tvalidation_0-logloss:0.033773\n",
            "[213]\tvalidation_0-logloss:0.033655\n",
            "[214]\tvalidation_0-logloss:0.033572\n",
            "[215]\tvalidation_0-logloss:0.033496\n",
            "[216]\tvalidation_0-logloss:0.033392\n",
            "[217]\tvalidation_0-logloss:0.033325\n",
            "[218]\tvalidation_0-logloss:0.033238\n",
            "[219]\tvalidation_0-logloss:0.033123\n",
            "[220]\tvalidation_0-logloss:0.032963\n",
            "[221]\tvalidation_0-logloss:0.032889\n",
            "[222]\tvalidation_0-logloss:0.032814\n",
            "[223]\tvalidation_0-logloss:0.032691\n",
            "[224]\tvalidation_0-logloss:0.032632\n",
            "[225]\tvalidation_0-logloss:0.032498\n",
            "[226]\tvalidation_0-logloss:0.032429\n",
            "[227]\tvalidation_0-logloss:0.032366\n",
            "[228]\tvalidation_0-logloss:0.032223\n",
            "[229]\tvalidation_0-logloss:0.032138\n",
            "[230]\tvalidation_0-logloss:0.032065\n",
            "[231]\tvalidation_0-logloss:0.031952\n",
            "[232]\tvalidation_0-logloss:0.03184\n",
            "[233]\tvalidation_0-logloss:0.03174\n",
            "[234]\tvalidation_0-logloss:0.031679\n",
            "[235]\tvalidation_0-logloss:0.031612\n",
            "[236]\tvalidation_0-logloss:0.031515\n",
            "[237]\tvalidation_0-logloss:0.031452\n",
            "[238]\tvalidation_0-logloss:0.031311\n",
            "[239]\tvalidation_0-logloss:0.031267\n",
            "[240]\tvalidation_0-logloss:0.031163\n",
            "[241]\tvalidation_0-logloss:0.031101\n",
            "[242]\tvalidation_0-logloss:0.03099\n",
            "[243]\tvalidation_0-logloss:0.030951\n",
            "[244]\tvalidation_0-logloss:0.030851\n",
            "[245]\tvalidation_0-logloss:0.030752\n",
            "[246]\tvalidation_0-logloss:0.030673\n",
            "[247]\tvalidation_0-logloss:0.030599\n",
            "[248]\tvalidation_0-logloss:0.030472\n",
            "[249]\tvalidation_0-logloss:0.030385\n",
            "[250]\tvalidation_0-logloss:0.030344\n",
            "[251]\tvalidation_0-logloss:0.030267\n",
            "[252]\tvalidation_0-logloss:0.030143\n",
            "[253]\tvalidation_0-logloss:0.030077\n",
            "[254]\tvalidation_0-logloss:0.029949\n",
            "[255]\tvalidation_0-logloss:0.029841\n",
            "[256]\tvalidation_0-logloss:0.02975\n",
            "[257]\tvalidation_0-logloss:0.029671\n",
            "[258]\tvalidation_0-logloss:0.029631\n",
            "[259]\tvalidation_0-logloss:0.029561\n",
            "[260]\tvalidation_0-logloss:0.029492\n",
            "[261]\tvalidation_0-logloss:0.029393\n",
            "[262]\tvalidation_0-logloss:0.029338\n",
            "[263]\tvalidation_0-logloss:0.029262\n",
            "[264]\tvalidation_0-logloss:0.029198\n",
            "[265]\tvalidation_0-logloss:0.029161\n",
            "[266]\tvalidation_0-logloss:0.029077\n",
            "[267]\tvalidation_0-logloss:0.028982\n",
            "[268]\tvalidation_0-logloss:0.028893\n",
            "[269]\tvalidation_0-logloss:0.028845\n",
            "[270]\tvalidation_0-logloss:0.028768\n",
            "[271]\tvalidation_0-logloss:0.0287\n",
            "[272]\tvalidation_0-logloss:0.028663\n",
            "[273]\tvalidation_0-logloss:0.028587\n",
            "[274]\tvalidation_0-logloss:0.028514\n",
            "[275]\tvalidation_0-logloss:0.028477\n",
            "[276]\tvalidation_0-logloss:0.028425\n",
            "[277]\tvalidation_0-logloss:0.028374\n",
            "[278]\tvalidation_0-logloss:0.028312\n",
            "[279]\tvalidation_0-logloss:0.028248\n",
            "[280]\tvalidation_0-logloss:0.028199\n",
            "[281]\tvalidation_0-logloss:0.028157\n",
            "[282]\tvalidation_0-logloss:0.02808\n",
            "[283]\tvalidation_0-logloss:0.028041\n",
            "[284]\tvalidation_0-logloss:0.027971\n",
            "[285]\tvalidation_0-logloss:0.027935\n",
            "[286]\tvalidation_0-logloss:0.027875\n",
            "[287]\tvalidation_0-logloss:0.027813\n",
            "[288]\tvalidation_0-logloss:0.027775\n",
            "[289]\tvalidation_0-logloss:0.027691\n",
            "[290]\tvalidation_0-logloss:0.027628\n",
            "[291]\tvalidation_0-logloss:0.027594\n",
            "[292]\tvalidation_0-logloss:0.02756\n",
            "[293]\tvalidation_0-logloss:0.027505\n",
            "[294]\tvalidation_0-logloss:0.027437\n",
            "[295]\tvalidation_0-logloss:0.027381\n",
            "[296]\tvalidation_0-logloss:0.027328\n",
            "[297]\tvalidation_0-logloss:0.027259\n",
            "[298]\tvalidation_0-logloss:0.027226\n",
            "[299]\tvalidation_0-logloss:0.027168\n",
            "[300]\tvalidation_0-logloss:0.027127\n",
            "[301]\tvalidation_0-logloss:0.027047\n",
            "[302]\tvalidation_0-logloss:0.02701\n",
            "[303]\tvalidation_0-logloss:0.02698\n",
            "[304]\tvalidation_0-logloss:0.026927\n",
            "[305]\tvalidation_0-logloss:0.026883\n",
            "[306]\tvalidation_0-logloss:0.026822\n",
            "[307]\tvalidation_0-logloss:0.026777\n",
            "[308]\tvalidation_0-logloss:0.026716\n",
            "[309]\tvalidation_0-logloss:0.02669\n",
            "[310]\tvalidation_0-logloss:0.026636\n",
            "[311]\tvalidation_0-logloss:0.026603\n",
            "[312]\tvalidation_0-logloss:0.026547\n",
            "[313]\tvalidation_0-logloss:0.026477\n",
            "[314]\tvalidation_0-logloss:0.026427\n",
            "[315]\tvalidation_0-logloss:0.026375\n",
            "[316]\tvalidation_0-logloss:0.026324\n",
            "[317]\tvalidation_0-logloss:0.026247\n",
            "[318]\tvalidation_0-logloss:0.026211\n",
            "[319]\tvalidation_0-logloss:0.02618\n",
            "[320]\tvalidation_0-logloss:0.026147\n",
            "[321]\tvalidation_0-logloss:0.02611\n",
            "[322]\tvalidation_0-logloss:0.02606\n",
            "[323]\tvalidation_0-logloss:0.026014\n",
            "[324]\tvalidation_0-logloss:0.025951\n",
            "[325]\tvalidation_0-logloss:0.025867\n",
            "[326]\tvalidation_0-logloss:0.025813\n",
            "[327]\tvalidation_0-logloss:0.02578\n",
            "[328]\tvalidation_0-logloss:0.025733\n",
            "[329]\tvalidation_0-logloss:0.025682\n",
            "[330]\tvalidation_0-logloss:0.025611\n",
            "[331]\tvalidation_0-logloss:0.025547\n",
            "[332]\tvalidation_0-logloss:0.025503\n",
            "[333]\tvalidation_0-logloss:0.025474\n",
            "[334]\tvalidation_0-logloss:0.025434\n",
            "[335]\tvalidation_0-logloss:0.0254\n",
            "[336]\tvalidation_0-logloss:0.025366\n",
            "[337]\tvalidation_0-logloss:0.025318\n",
            "[338]\tvalidation_0-logloss:0.025268\n",
            "[339]\tvalidation_0-logloss:0.025219\n",
            "[340]\tvalidation_0-logloss:0.025159\n",
            "[341]\tvalidation_0-logloss:0.025131\n",
            "[342]\tvalidation_0-logloss:0.025086\n",
            "[343]\tvalidation_0-logloss:0.025054\n",
            "[344]\tvalidation_0-logloss:0.025002\n",
            "[345]\tvalidation_0-logloss:0.024958\n",
            "[346]\tvalidation_0-logloss:0.024927\n",
            "[347]\tvalidation_0-logloss:0.024888\n",
            "[348]\tvalidation_0-logloss:0.024841\n",
            "[349]\tvalidation_0-logloss:0.024797\n",
            "[350]\tvalidation_0-logloss:0.024753\n",
            "[351]\tvalidation_0-logloss:0.024709\n",
            "[352]\tvalidation_0-logloss:0.02466\n",
            "[353]\tvalidation_0-logloss:0.024613\n",
            "[354]\tvalidation_0-logloss:0.024589\n",
            "[355]\tvalidation_0-logloss:0.024562\n",
            "[356]\tvalidation_0-logloss:0.02452\n",
            "[357]\tvalidation_0-logloss:0.024475\n",
            "[358]\tvalidation_0-logloss:0.024435\n",
            "[359]\tvalidation_0-logloss:0.02441\n",
            "[360]\tvalidation_0-logloss:0.024368\n",
            "[361]\tvalidation_0-logloss:0.02433\n",
            "[362]\tvalidation_0-logloss:0.024307\n",
            "[363]\tvalidation_0-logloss:0.024283\n",
            "[364]\tvalidation_0-logloss:0.024229\n",
            "[365]\tvalidation_0-logloss:0.024194\n",
            "[366]\tvalidation_0-logloss:0.024153\n",
            "[367]\tvalidation_0-logloss:0.024131\n",
            "[368]\tvalidation_0-logloss:0.024108\n",
            "[369]\tvalidation_0-logloss:0.024072\n",
            "[370]\tvalidation_0-logloss:0.02404\n",
            "[371]\tvalidation_0-logloss:0.024007\n",
            "[372]\tvalidation_0-logloss:0.023982\n",
            "[373]\tvalidation_0-logloss:0.023956\n",
            "[374]\tvalidation_0-logloss:0.023913\n",
            "[375]\tvalidation_0-logloss:0.023891\n",
            "[376]\tvalidation_0-logloss:0.023848\n",
            "[377]\tvalidation_0-logloss:0.023826\n",
            "[378]\tvalidation_0-logloss:0.023801\n",
            "[379]\tvalidation_0-logloss:0.023758\n",
            "[380]\tvalidation_0-logloss:0.023738\n",
            "[381]\tvalidation_0-logloss:0.023705\n",
            "[382]\tvalidation_0-logloss:0.023675\n",
            "[383]\tvalidation_0-logloss:0.023653\n",
            "[384]\tvalidation_0-logloss:0.023612\n",
            "[385]\tvalidation_0-logloss:0.023592\n",
            "[386]\tvalidation_0-logloss:0.023571\n",
            "[387]\tvalidation_0-logloss:0.023537\n",
            "[388]\tvalidation_0-logloss:0.023479\n",
            "[389]\tvalidation_0-logloss:0.023451\n",
            "[390]\tvalidation_0-logloss:0.02343\n",
            "[391]\tvalidation_0-logloss:0.023406\n",
            "[392]\tvalidation_0-logloss:0.023377\n",
            "[393]\tvalidation_0-logloss:0.023347\n",
            "[394]\tvalidation_0-logloss:0.023316\n",
            "[395]\tvalidation_0-logloss:0.023288\n",
            "[396]\tvalidation_0-logloss:0.023248\n",
            "[397]\tvalidation_0-logloss:0.023207\n",
            "[398]\tvalidation_0-logloss:0.023178\n",
            "[399]\tvalidation_0-logloss:0.023157\n"
          ]
        },
        {
          "output_type": "execute_result",
          "data": {
            "text/plain": [
              "XGBClassifier(base_score=0.5, booster='gbtree', colsample_bylevel=1,\n",
              "              colsample_bynode=1, colsample_bytree=1, gamma=0,\n",
              "              learning_rate=0.1, max_delta_step=0, max_depth=4,\n",
              "              min_child_weight=1, missing=None, n_estimators=400, n_jobs=1,\n",
              "              nthread=None, objective='binary:logistic', random_state=0,\n",
              "              reg_alpha=0, reg_lambda=1, scale_pos_weight=1, seed=None,\n",
              "              silent=None, subsample=1, verbosity=1)"
            ]
          },
          "metadata": {},
          "execution_count": 100
        }
      ]
    },
    {
      "cell_type": "code",
      "metadata": {
        "colab": {
          "base_uri": "https://localhost:8080/"
        },
        "id": "OZOiRl74_mck",
        "outputId": "83740818-0edf-4def-dd1a-8424ed37f265"
      },
      "source": [
        "y_pred6 = xgb1.predict(X_test)\n",
        "evaluating_model(y_test, y_pred6)"
      ],
      "execution_count": 101,
      "outputs": [
        {
          "output_type": "stream",
          "name": "stdout",
          "text": [
            "Accuracy Score:  0.8666666666666667\n",
            "Confusin Matrix:  [[56  6]\n",
            " [ 6 22]]\n",
            "Precision Score:  0.7857142857142857\n",
            "Recall Score:  0.7857142857142857\n"
          ]
        }
      ]
    },
    {
      "cell_type": "code",
      "metadata": {
        "colab": {
          "base_uri": "https://localhost:8080/",
          "height": 295
        },
        "id": "1JJhEncQAilb",
        "outputId": "53751a8b-1f6c-41c4-b674-690c851dfa96"
      },
      "source": [
        "from xgboost import plot_importance\n",
        "\n",
        "plot_importance(xgb1)\n",
        "plt.show()"
      ],
      "execution_count": 102,
      "outputs": [
        {
          "output_type": "display_data",
          "data": {
            "image/png": "[encoded data removed]",
            "text/plain": [
              "<Figure size 432x288 with 1 Axes>"
            ]
          },
          "metadata": {
            "needs_background": "light"
          }
        }
      ]
    },
    {
      "cell_type": "code",
      "metadata": {
        "colab": {
          "base_uri": "https://localhost:8080/"
        },
        "id": "Nde3-N4DEWdU",
        "outputId": "57ee6b61-0628-4915-d13f-3b760862abe4"
      },
      "source": [
        "#Gradient Boost\n",
        "\n",
        "from sklearn.ensemble import GradientBoostingClassifier\n",
        "\n",
        "gbst = GradientBoostingClassifier(n_estimators=200, learning_rate=0.1, max_depth=1)\n",
        "gbst.fit(X_train, y_train)\n",
        "\n",
        "gbst_pred = gbst.predict(X_test)\n",
        "evaluating_model(y_test, gbst_pred)"
      ],
      "execution_count": 104,
      "outputs": [
        {
          "output_type": "stream",
          "name": "stdout",
          "text": [
            "Accuracy Score:  0.8555555555555555\n",
            "Confusin Matrix:  [[59  3]\n",
            " [10 18]]\n",
            "Precision Score:  0.8571428571428571\n",
            "Recall Score:  0.6428571428571429\n"
          ]
        }
      ]
    },
    {
      "cell_type": "markdown",
      "metadata": {
        "id": "yjhTkRHuKZah"
      },
      "source": [
        "Choosing the best model"
      ]
    },
    {
      "cell_type": "code",
      "metadata": {
        "colab": {
          "base_uri": "https://localhost:8080/"
        },
        "id": "fJ9CVudaKcnJ",
        "outputId": "0c9e17ef-ed00-43c3-dd66-071d24d555eb"
      },
      "source": [
        "#XGBoost has the highest accuracy\n",
        "\n",
        "import joblib\n",
        "joblib.dump(xgb1, 'model_i.pkl')\n",
        "model = joblib.load('model_i.pkl')\n",
        "model.predict(X_test)"
      ],
      "execution_count": 106,
      "outputs": [
        {
          "output_type": "execute_result",
          "data": {
            "text/plain": [
              "array([0, 1, 1, 0, 0, 0, 1, 0, 1, 0, 0, 1, 1, 0, 1, 1, 0, 0, 0, 0, 1, 0,\n",
              "       0, 0, 1, 0, 1, 0, 0, 0, 0, 1, 1, 0, 0, 0, 0, 0, 0, 1, 0, 1, 0, 0,\n",
              "       1, 0, 0, 0, 1, 1, 0, 0, 1, 0, 1, 1, 0, 1, 0, 0, 0, 0, 1, 0, 0, 0,\n",
              "       0, 0, 1, 1, 0, 0, 0, 1, 1, 0, 1, 0, 0, 0, 0, 0, 0, 0, 0, 0, 0, 0,\n",
              "       0, 0])"
            ]
          },
          "metadata": {},
          "execution_count": 106
        }
      ]
    }
  ]
}